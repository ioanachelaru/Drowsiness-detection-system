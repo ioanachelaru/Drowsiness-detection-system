{
 "cells": [
  {
   "cell_type": "markdown",
   "metadata": {
    "id": "jgYJvfaGvieF",
    "colab_type": "text"
   },
   "source": [
    "#STEP #1 - Set the seed"
   ]
  },
  {
   "cell_type": "code",
   "execution_count": 0,
   "metadata": {
    "id": "S0ppTROQsI4K",
    "colab_type": "code",
    "colab": {}
   },
   "outputs": [],
   "source": [
    "# Seed value\n",
    "seed_value= 0\n",
    " \n",
    "# 1. Set `PYTHONHASHSEED` environment variable at a fixed value\n",
    "import os\n",
    "os.environ['PYTHONHASHSEED']=str(seed_value)\n",
    " \n",
    "# 2. Set `python` built-in pseudo-random generator at a fixed value\n",
    "import random\n",
    "random.seed(seed_value)\n",
    " \n",
    "# 3. Set `numpy` pseudo-random generator at a fixed value\n",
    "import numpy as np\n",
    "np.random.seed(seed_value)\n",
    " \n",
    "# 4. Set `tensorflow` pseudo-random generator at a fixed value\n",
    "import tensorflow as tf\n",
    "tf.random.set_seed(seed_value)\n",
    " \n",
    "# 5. Configure a new global `tensorflow` session\n",
    "session_conf = tf.compat.v1.ConfigProto(intra_op_parallelism_threads=1, inter_op_parallelism_threads=1)\n",
    "sess = tf.compat.v1.Session(graph=tf.compat.v1.get_default_graph(), config=session_conf)\n",
    "tf.compat.v1.keras.backend.set_session(sess)"
   ]
  },
  {
   "cell_type": "markdown",
   "metadata": {
    "id": "cxGgDq_evofa",
    "colab_type": "text"
   },
   "source": [
    "#STEP #2 - Import the necessary "
   ]
  },
  {
   "cell_type": "code",
   "execution_count": 2,
   "metadata": {
    "id": "HPtZl5dcsN4-",
    "colab_type": "code",
    "colab": {
     "base_uri": "https://localhost:8080/",
     "height": 72.0
    },
    "outputId": "ed75045e-d386-4a15-dc6e-646daaa1880c",
    "executionInfo": {
     "status": "ok",
     "timestamp": 1.59188995175E12,
     "user_tz": -180.0,
     "elapsed": 4059.0,
     "user": {
      "displayName": "Ioana Chelaru",
      "photoUrl": "",
      "userId": "17201995814344921386"
     }
    }
   },
   "outputs": [
    {
     "name": "stderr",
     "output_type": "stream",
     "text": [
      "/usr/local/lib/python3.6/dist-packages/statsmodels/tools/_testing.py:19: FutureWarning: pandas.util.testing is deprecated. Use the functions in the public API at pandas.testing instead.\n",
      "  import pandas.util.testing as tm\n"
     ]
    }
   ],
   "source": [
    "import tensorflow as tf\n",
    "import tensorflow.keras \n",
    "from tensorflow.keras.preprocessing.image import ImageDataGenerator\n",
    "from tensorflow.keras.models import Sequential\n",
    "from tensorflow.keras.layers import Conv2D,Flatten,Dense,Activation,Dropout,MaxPooling2D\n",
    "from tensorflow.keras.activations import relu\n",
    "from tensorflow.keras.optimizers import Adam\n",
    "from sklearn.preprocessing import MinMaxScaler\n",
    "from sklearn.model_selection import train_test_split\n",
    "from sklearn import metrics\n",
    "from sklearn.metrics import confusion_matrix\n",
    "from sklearn.metrics import classification_report\n",
    "import pandas as pd\n",
    "import matplotlib.pyplot as plt\n",
    "import seaborn as sns\n",
    "import numpy as np\n",
    "import csv"
   ]
  },
  {
   "cell_type": "markdown",
   "metadata": {
    "id": "mscOBKOdvxYg",
    "colab_type": "text"
   },
   "source": [
    "#STEP #3 - Data preprocessing"
   ]
  },
  {
   "cell_type": "code",
   "execution_count": 0,
   "metadata": {
    "id": "scLpABDesTof",
    "colab_type": "code",
    "colab": {}
   },
   "outputs": [],
   "source": [
    "# the path to the dataset.csv file\n",
    "path = '/content/drive/My Drive/Colab Notebooks/Open-closed eye classifier/dataset.csv'\n",
    "\n",
    "# dimensions of the photos\n",
    "height = 26\n",
    "width = 34\n",
    "dims = 1\n",
    "\n",
    "# scaler used for normalizing the dataset\n",
    "scaler = MinMaxScaler()"
   ]
  },
  {
   "cell_type": "code",
   "execution_count": 0,
   "metadata": {
    "id": "NfiwZ_z5sX0r",
    "colab_type": "code",
    "colab": {}
   },
   "outputs": [],
   "source": [
    "with open(path,'r') as f:\n",
    "\t\t# read the csv file with the dictionary format \n",
    "\t\treader = csv.DictReader(f)\n",
    "\t\trows = list(reader)\n",
    "\n",
    "# imgs is a numpy array with all the images\n",
    "# tgs is a numpy array with the tags of the images\n",
    "imgs = np.empty((len(list(rows)),height,width, dims),dtype=np.float32)\n",
    "tgs = np.empty((len(list(rows)),1))\n",
    "  \n",
    "for row, i in zip(rows, range(len(rows))):\n",
    "  \n",
    "  # convert the list back to the image format\n",
    "  img = row['image']\n",
    "  img = img.strip('[').strip(']').split(', ')\n",
    "  im = np.array(img,dtype=np.float32)\n",
    "\n",
    "  im = im.reshape((26,34))\n",
    "\n",
    "  # normalize the data\n",
    "  im = scaler.fit_transform(im)\n",
    "\n",
    "  im = np.expand_dims(im, axis=2)\n",
    "  imgs[i] = im\n",
    "\n",
    "  # the tag for open eye is 1 and for close eye is 0\n",
    "  tag = row['state']\n",
    "  if tag == 'open':\n",
    "    tgs[i] = 1\n",
    "  else:\n",
    "    tgs[i] = 0\n",
    "\n",
    "# shuffle the dataset\n",
    "index = np.random.permutation(imgs.shape[0])\n",
    "imgs = imgs[index]\n",
    "tgs = tgs[index]"
   ]
  },
  {
   "cell_type": "code",
   "execution_count": 5,
   "metadata": {
    "id": "k9YpYHLMsZt4",
    "colab_type": "code",
    "colab": {
     "base_uri": "https://localhost:8080/",
     "height": 283.0
    },
    "outputId": "e10f77af-f6c8-466b-aedb-a72da902344b",
    "executionInfo": {
     "status": "ok",
     "timestamp": 1.591698236444E12,
     "user_tz": -180.0,
     "elapsed": 673.0,
     "user": {
      "displayName": "Ioana Chelaru",
      "photoUrl": "",
      "userId": "17201995814344921386"
     }
    }
   },
   "outputs": [
    {
     "data": {
      "text/plain": [
       "<matplotlib.image.AxesImage at 0x7f57144e4588>"
      ]
     },
     "execution_count": 5,
     "metadata": {
      "tags": []
     },
     "output_type": "execute_result"
    },
    {
     "data": {
      "image/png": "[encoded data removed]",
      "text/plain": [
       "<Figure size 432x288 with 1 Axes>"
      ]
     },
     "metadata": {
      "tags": [],
      "needs_background": "light"
     },
     "output_type": "display_data"
    }
   ],
   "source": [
    "# visualize one image \n",
    "plt.imshow(imgs[213][:,:,-1], cmap='gray')"
   ]
  },
  {
   "cell_type": "code",
   "execution_count": 0,
   "metadata": {
    "id": "Ft2Ncb42sgwl",
    "colab_type": "code",
    "colab": {}
   },
   "outputs": [],
   "source": [
    "# Splitting the dataset into training, validation and testing\n",
    "# X stands for the column 'image' and y stands for the column 'state' from the original dataset\n",
    "X_train, X_test, y_train, y_test = train_test_split(imgs, tgs, test_size=0.20, random_state=42)\n",
    "X_test, X_val, y_test, y_val = train_test_split(X_test, y_test, test_size=0.50, random_state=42)"
   ]
  },
  {
   "cell_type": "code",
   "execution_count": 6,
   "metadata": {
    "id": "AUWCKK5Askwj",
    "colab_type": "code",
    "colab": {
     "base_uri": "https://localhost:8080/",
     "height": 124.0
    },
    "outputId": "4e82add0-4dae-433b-f4ce-080876895530",
    "executionInfo": {
     "status": "ok",
     "timestamp": 1.591889961882E12,
     "user_tz": -180.0,
     "elapsed": 1075.0,
     "user": {
      "displayName": "Ioana Chelaru",
      "photoUrl": "",
      "userId": "17201995814344921386"
     }
    }
   },
   "outputs": [
    {
     "name": "stdout",
     "output_type": "stream",
     "text": [
      "X_train shape =  (2299, 26, 34, 1)\n",
      "y_train shape =  (2299, 1)\n",
      "X_validation shape =  (288, 26, 34, 1)\n",
      "y_validation shape =  (288, 1)\n",
      "X_test shape =  (287, 26, 34, 1)\n",
      "y_test shape =  (287, 1)\n"
     ]
    }
   ],
   "source": [
    "# print the shape of the sets\n",
    "print('X_train shape = ', X_train.shape)\n",
    "print('y_train shape = ', y_train.shape)\n",
    "\n",
    "print('X_validation shape = ', X_val.shape)\n",
    "print('y_validation shape = ', y_val.shape)\n",
    "\n",
    "print('X_test shape = ', X_test.shape)\n",
    "print('y_test shape = ', y_test.shape)"
   ]
  },
  {
   "cell_type": "markdown",
   "metadata": {
    "id": "QjlUeFhNv5U1",
    "colab_type": "text"
   },
   "source": [
    "#STEP #4 - Online data augumentation"
   ]
  },
  {
   "cell_type": "code",
   "execution_count": 0,
   "metadata": {
    "id": "Vd-HcT6msmwW",
    "colab_type": "code",
    "colab": {}
   },
   "outputs": [],
   "source": [
    "data_generator = ImageDataGenerator(\n",
    "        rotation_range=10,\n",
    "        width_shift_range=0.2,\n",
    "        height_shift_range=0.2,\n",
    "        )\n",
    "data_generator.fit(X_train)\n",
    "data_generator.fit(X_val)"
   ]
  },
  {
   "cell_type": "markdown",
   "metadata": {
    "id": "CnglpMSSyoDj",
    "colab_type": "text"
   },
   "source": [
    "#STEP #5 - Set parameters"
   ]
  },
  {
   "cell_type": "code",
   "execution_count": 0,
   "metadata": {
    "id": "QF0s6nWWspcl",
    "colab_type": "code",
    "colab": {}
   },
   "outputs": [],
   "source": [
    "NUMBER_OF_EPOCHS = 50\n",
    "BATCH_SIZE = 32\n",
    "STEPS_PER_EPOCH = len(X_train) / 32\n",
    "STEPS_PER_VALIDATION = len(X_val) / 32\n",
    "\n",
    "verbosity = 1\n",
    "loss_function = 'binary_crossentropy'\n",
    "learning_rate = 0.001\n",
    "threshold = 0.5"
   ]
  },
  {
   "cell_type": "markdown",
   "metadata": {
    "id": "1ew6r6QAys8J",
    "colab_type": "text"
   },
   "source": [
    "#STEP #6 - Model architecture"
   ]
  },
  {
   "cell_type": "code",
   "execution_count": 0,
   "metadata": {
    "id": "fm_S6BDrsrNG",
    "colab_type": "code",
    "colab": {}
   },
   "outputs": [],
   "source": [
    "# convolution = feature detection\n",
    "# ReLU adds non-liniarity and improves the model\n",
    "# pooling = compress feature detectors\n",
    "\n",
    "model = Sequential()\n",
    "\n",
    "# first layer of convolution\n",
    "model.add(Conv2D(32, kernel_size=(3,3), padding = 'same', activation='relu', input_shape=(height, width, dims)))\n",
    "model.add(MaxPooling2D(pool_size=(2, 2)))\n",
    "\n",
    "# second layer of convolution\n",
    "model.add(Conv2D(64, kernel_size=(3,3), padding= 'same', activation='relu'))\n",
    "model.add(MaxPooling2D(pool_size=(2, 2)))\n",
    "\n",
    "# third layer of convolution\n",
    "model.add(Conv2D(128, kernel_size=(3,3), padding='same', activation='relu'))\n",
    "model.add(MaxPooling2D(pool_size=(2, 2)))\n",
    "\n",
    "# drops some neurons along with their weights to avoid overfitting\n",
    "model.add(Dropout(0.25))\n",
    "\n",
    "model.add(Flatten())\n",
    "\n",
    "# first dense layer\n",
    "model.add(Dense(512))\n",
    "model.add(Activation('relu'))\n",
    "\n",
    "# second dense layer\n",
    "model.add(Dense(512))\n",
    "model.add(Activation('relu'))\n",
    "\n",
    "# output layer\n",
    "model.add(Dense(1))\n",
    "model.add(Activation('sigmoid'))\n",
    "\n",
    "model.compile(optimizer = Adam(lr = learning_rate), loss = loss_function, metrics = ['accuracy'])"
   ]
  },
  {
   "cell_type": "code",
   "execution_count": 12,
   "metadata": {
    "id": "HvKyc6N6svr3",
    "colab_type": "code",
    "colab": {
     "base_uri": "https://localhost:8080/",
     "height": 657.0
    },
    "outputId": "225c1c59-029f-4775-9887-8ef6b62c5ffe",
    "executionInfo": {
     "status": "ok",
     "timestamp": 1.591532006952E12,
     "user_tz": -180.0,
     "elapsed": 1446.0,
     "user": {
      "displayName": "Ioana Chelaru",
      "photoUrl": "",
      "userId": "17201995814344921386"
     }
    }
   },
   "outputs": [
    {
     "name": "stdout",
     "output_type": "stream",
     "text": [
      "Model: \"sequential\"\n",
      "_________________________________________________________________\n",
      "Layer (type)                 Output Shape              Param #   \n",
      "=================================================================\n",
      "conv2d (Conv2D)              (None, 26, 34, 32)        320       \n",
      "_________________________________________________________________\n",
      "max_pooling2d (MaxPooling2D) (None, 13, 17, 32)        0         \n",
      "_________________________________________________________________\n",
      "conv2d_1 (Conv2D)            (None, 13, 17, 64)        18496     \n",
      "_________________________________________________________________\n",
      "max_pooling2d_1 (MaxPooling2 (None, 6, 8, 64)          0         \n",
      "_________________________________________________________________\n",
      "conv2d_2 (Conv2D)            (None, 6, 8, 128)         73856     \n",
      "_________________________________________________________________\n",
      "max_pooling2d_2 (MaxPooling2 (None, 3, 4, 128)         0         \n",
      "_________________________________________________________________\n",
      "dropout (Dropout)            (None, 3, 4, 128)         0         \n",
      "_________________________________________________________________\n",
      "flatten (Flatten)            (None, 1536)              0         \n",
      "_________________________________________________________________\n",
      "dense (Dense)                (None, 512)               786944    \n",
      "_________________________________________________________________\n",
      "activation (Activation)      (None, 512)               0         \n",
      "_________________________________________________________________\n",
      "dense_1 (Dense)              (None, 512)               262656    \n",
      "_________________________________________________________________\n",
      "activation_1 (Activation)    (None, 512)               0         \n",
      "_________________________________________________________________\n",
      "dense_2 (Dense)              (None, 1)                 513       \n",
      "_________________________________________________________________\n",
      "activation_2 (Activation)    (None, 1)                 0         \n",
      "=================================================================\n",
      "Total params: 1,142,785\n",
      "Trainable params: 1,142,785\n",
      "Non-trainable params: 0\n",
      "_________________________________________________________________\n"
     ]
    }
   ],
   "source": [
    "# overview on the model architecture\n",
    "model.summary()"
   ]
  },
  {
   "cell_type": "markdown",
   "metadata": {
    "id": "MnkfzGD0y2yr",
    "colab_type": "text"
   },
   "source": [
    "#STEP #7 - Train the model"
   ]
  },
  {
   "cell_type": "code",
   "execution_count": 13,
   "metadata": {
    "id": "qh4Vzr6psygr",
    "colab_type": "code",
    "colab": {
     "base_uri": "https://localhost:8080/",
     "height": 1000.0
    },
    "outputId": "6ee56b31-72de-41bd-e2f8-0081ff680efc",
    "executionInfo": {
     "status": "ok",
     "timestamp": 1.591532080405E12,
     "user_tz": -180.0,
     "elapsed": 66125.0,
     "user": {
      "displayName": "Ioana Chelaru",
      "photoUrl": "",
      "userId": "17201995814344921386"
     }
    }
   },
   "outputs": [
    {
     "name": "stdout",
     "output_type": "stream",
     "text": [
      "Epoch 1/50\n",
      "72/71 [==============================] - 1s 18ms/step - loss: 0.4398 - accuracy: 0.7999 - val_loss: 0.2200 - val_accuracy: 0.9167\n",
      "Epoch 2/50\n",
      "72/71 [==============================] - 1s 15ms/step - loss: 0.1623 - accuracy: 0.9378 - val_loss: 0.1300 - val_accuracy: 0.9688\n",
      "Epoch 3/50\n",
      "72/71 [==============================] - 1s 15ms/step - loss: 0.1201 - accuracy: 0.9565 - val_loss: 0.1310 - val_accuracy: 0.9583\n",
      "Epoch 4/50\n",
      "72/71 [==============================] - 1s 15ms/step - loss: 0.0900 - accuracy: 0.9687 - val_loss: 0.1100 - val_accuracy: 0.9583\n",
      "Epoch 5/50\n",
      "72/71 [==============================] - 1s 15ms/step - loss: 0.0846 - accuracy: 0.9700 - val_loss: 0.0804 - val_accuracy: 0.9792\n",
      "Epoch 6/50\n",
      "72/71 [==============================] - 1s 16ms/step - loss: 0.0635 - accuracy: 0.9774 - val_loss: 0.1085 - val_accuracy: 0.9688\n",
      "Epoch 7/50\n",
      "72/71 [==============================] - 1s 16ms/step - loss: 0.0594 - accuracy: 0.9817 - val_loss: 0.0784 - val_accuracy: 0.9792\n",
      "Epoch 8/50\n",
      "72/71 [==============================] - 1s 16ms/step - loss: 0.0439 - accuracy: 0.9835 - val_loss: 0.1195 - val_accuracy: 0.9549\n",
      "Epoch 9/50\n",
      "72/71 [==============================] - 1s 16ms/step - loss: 0.0509 - accuracy: 0.9835 - val_loss: 0.0759 - val_accuracy: 0.9722\n",
      "Epoch 10/50\n",
      "72/71 [==============================] - 1s 16ms/step - loss: 0.0386 - accuracy: 0.9865 - val_loss: 0.0733 - val_accuracy: 0.9826\n",
      "Epoch 11/50\n",
      "72/71 [==============================] - 1s 16ms/step - loss: 0.0325 - accuracy: 0.9891 - val_loss: 0.0542 - val_accuracy: 0.9826\n",
      "Epoch 12/50\n",
      "72/71 [==============================] - 1s 16ms/step - loss: 0.0353 - accuracy: 0.9896 - val_loss: 0.1455 - val_accuracy: 0.9583\n",
      "Epoch 13/50\n",
      "72/71 [==============================] - 1s 16ms/step - loss: 0.0338 - accuracy: 0.9900 - val_loss: 0.0737 - val_accuracy: 0.9757\n",
      "Epoch 14/50\n",
      "72/71 [==============================] - 1s 16ms/step - loss: 0.0385 - accuracy: 0.9861 - val_loss: 0.0628 - val_accuracy: 0.9826\n",
      "Epoch 15/50\n",
      "72/71 [==============================] - 1s 15ms/step - loss: 0.0357 - accuracy: 0.9865 - val_loss: 0.0316 - val_accuracy: 0.9861\n",
      "Epoch 16/50\n",
      "72/71 [==============================] - 1s 15ms/step - loss: 0.0268 - accuracy: 0.9904 - val_loss: 0.0843 - val_accuracy: 0.9653\n",
      "Epoch 17/50\n",
      "72/71 [==============================] - 1s 16ms/step - loss: 0.0285 - accuracy: 0.9887 - val_loss: 0.0520 - val_accuracy: 0.9826\n",
      "Epoch 18/50\n",
      "72/71 [==============================] - 1s 16ms/step - loss: 0.0288 - accuracy: 0.9909 - val_loss: 0.0494 - val_accuracy: 0.9826\n",
      "Epoch 19/50\n",
      "72/71 [==============================] - 1s 16ms/step - loss: 0.0386 - accuracy: 0.9887 - val_loss: 0.0415 - val_accuracy: 0.9861\n",
      "Epoch 20/50\n",
      "72/71 [==============================] - 1s 16ms/step - loss: 0.0289 - accuracy: 0.9904 - val_loss: 0.0461 - val_accuracy: 0.9826\n",
      "Epoch 21/50\n",
      "72/71 [==============================] - 1s 16ms/step - loss: 0.0219 - accuracy: 0.9939 - val_loss: 0.0403 - val_accuracy: 0.9896\n",
      "Epoch 22/50\n",
      "72/71 [==============================] - 1s 16ms/step - loss: 0.0352 - accuracy: 0.9883 - val_loss: 0.1088 - val_accuracy: 0.9583\n",
      "Epoch 23/50\n",
      "72/71 [==============================] - 1s 16ms/step - loss: 0.0292 - accuracy: 0.9891 - val_loss: 0.0362 - val_accuracy: 0.9931\n",
      "Epoch 24/50\n",
      "72/71 [==============================] - 1s 15ms/step - loss: 0.0295 - accuracy: 0.9896 - val_loss: 0.0390 - val_accuracy: 0.9861\n",
      "Epoch 25/50\n",
      "72/71 [==============================] - 1s 15ms/step - loss: 0.0230 - accuracy: 0.9917 - val_loss: 0.0437 - val_accuracy: 0.9861\n",
      "Epoch 26/50\n",
      "72/71 [==============================] - 1s 16ms/step - loss: 0.0172 - accuracy: 0.9939 - val_loss: 0.0348 - val_accuracy: 0.9931\n",
      "Epoch 27/50\n",
      "72/71 [==============================] - 1s 15ms/step - loss: 0.0170 - accuracy: 0.9948 - val_loss: 0.0621 - val_accuracy: 0.9826\n",
      "Epoch 28/50\n",
      "72/71 [==============================] - 1s 16ms/step - loss: 0.0267 - accuracy: 0.9891 - val_loss: 0.0239 - val_accuracy: 0.9896\n",
      "Epoch 29/50\n",
      "72/71 [==============================] - 1s 16ms/step - loss: 0.0220 - accuracy: 0.9922 - val_loss: 0.0704 - val_accuracy: 0.9792\n",
      "Epoch 30/50\n",
      "72/71 [==============================] - 1s 15ms/step - loss: 0.0186 - accuracy: 0.9935 - val_loss: 0.0483 - val_accuracy: 0.9826\n",
      "Epoch 31/50\n",
      "72/71 [==============================] - 1s 15ms/step - loss: 0.0166 - accuracy: 0.9943 - val_loss: 0.0320 - val_accuracy: 0.9896\n",
      "Epoch 32/50\n",
      "72/71 [==============================] - 1s 16ms/step - loss: 0.0203 - accuracy: 0.9935 - val_loss: 0.0533 - val_accuracy: 0.9861\n",
      "Epoch 33/50\n",
      "72/71 [==============================] - 1s 15ms/step - loss: 0.0116 - accuracy: 0.9952 - val_loss: 0.0272 - val_accuracy: 0.9861\n",
      "Epoch 34/50\n",
      "72/71 [==============================] - 1s 15ms/step - loss: 0.0107 - accuracy: 0.9965 - val_loss: 0.0983 - val_accuracy: 0.9861\n",
      "Epoch 35/50\n",
      "72/71 [==============================] - 1s 16ms/step - loss: 0.0125 - accuracy: 0.9970 - val_loss: 0.0411 - val_accuracy: 0.9896\n",
      "Epoch 36/50\n",
      "72/71 [==============================] - 1s 16ms/step - loss: 0.0142 - accuracy: 0.9952 - val_loss: 0.0477 - val_accuracy: 0.9792\n",
      "Epoch 37/50\n",
      "72/71 [==============================] - 1s 16ms/step - loss: 0.0310 - accuracy: 0.9887 - val_loss: 0.0341 - val_accuracy: 0.9826\n",
      "Epoch 38/50\n",
      "72/71 [==============================] - 1s 16ms/step - loss: 0.0170 - accuracy: 0.9943 - val_loss: 0.0260 - val_accuracy: 0.9896\n",
      "Epoch 39/50\n",
      "72/71 [==============================] - 1s 15ms/step - loss: 0.0107 - accuracy: 0.9961 - val_loss: 0.0144 - val_accuracy: 0.9965\n",
      "Epoch 40/50\n",
      "72/71 [==============================] - 1s 16ms/step - loss: 0.0158 - accuracy: 0.9943 - val_loss: 0.0369 - val_accuracy: 0.9826\n",
      "Epoch 41/50\n",
      "72/71 [==============================] - 1s 16ms/step - loss: 0.0285 - accuracy: 0.9917 - val_loss: 0.0412 - val_accuracy: 0.9896\n",
      "Epoch 42/50\n",
      "72/71 [==============================] - 1s 16ms/step - loss: 0.0125 - accuracy: 0.9948 - val_loss: 0.0694 - val_accuracy: 0.9826\n",
      "Epoch 43/50\n",
      "72/71 [==============================] - 1s 16ms/step - loss: 0.0130 - accuracy: 0.9943 - val_loss: 0.0648 - val_accuracy: 0.9826\n",
      "Epoch 44/50\n",
      "72/71 [==============================] - 1s 16ms/step - loss: 0.0203 - accuracy: 0.9930 - val_loss: 0.0375 - val_accuracy: 0.9826\n",
      "Epoch 45/50\n",
      "72/71 [==============================] - 1s 18ms/step - loss: 0.0074 - accuracy: 0.9970 - val_loss: 0.0543 - val_accuracy: 0.9792\n",
      "Epoch 46/50\n",
      "72/71 [==============================] - 1s 16ms/step - loss: 0.0177 - accuracy: 0.9952 - val_loss: 0.0243 - val_accuracy: 0.9931\n",
      "Epoch 47/50\n",
      "72/71 [==============================] - 1s 16ms/step - loss: 0.0157 - accuracy: 0.9930 - val_loss: 0.0416 - val_accuracy: 0.9826\n",
      "Epoch 48/50\n",
      "72/71 [==============================] - 1s 16ms/step - loss: 0.0106 - accuracy: 0.9970 - val_loss: 0.0449 - val_accuracy: 0.9861\n",
      "Epoch 49/50\n",
      "72/71 [==============================] - 1s 16ms/step - loss: 0.0049 - accuracy: 0.9983 - val_loss: 0.0534 - val_accuracy: 0.9931\n",
      "Epoch 50/50\n",
      "72/71 [==============================] - 1s 16ms/step - loss: 0.0153 - accuracy: 0.9965 - val_loss: 0.0512 - val_accuracy: 0.9861\n"
     ]
    }
   ],
   "source": [
    "#train the model\n",
    "history = model.fit(data_generator.flow(X_train, y_train, batch_size = BATCH_SIZE),steps_per_epoch = STEPS_PER_EPOCH, \n",
    "                    validation_steps = STEPS_PER_VALIDATION, validation_data = data_generator.flow(X_val, y_val, batch_size = BATCH_SIZE),\n",
    "                    epochs = NUMBER_OF_EPOCHS)"
   ]
  },
  {
   "cell_type": "markdown",
   "metadata": {
    "id": "_A4Ae5nGy-WE",
    "colab_type": "text"
   },
   "source": [
    "#STEP #8 - Evaluate the model"
   ]
  },
  {
   "cell_type": "code",
   "execution_count": 14,
   "metadata": {
    "id": "7ZC8ljZos0ps",
    "colab_type": "code",
    "colab": {
     "base_uri": "https://localhost:8080/",
     "height": 35.0
    },
    "outputId": "dacebf8b-4502-4a53-f59e-9f7f1e510ab0",
    "executionInfo": {
     "status": "ok",
     "timestamp": 1.591532080406E12,
     "user_tz": -180.0,
     "elapsed": 52133.0,
     "user": {
      "displayName": "Ioana Chelaru",
      "photoUrl": "",
      "userId": "17201995814344921386"
     }
    }
   },
   "outputs": [
    {
     "name": "stdout",
     "output_type": "stream",
     "text": [
      "9/9 [==============================] - 0s 4ms/step - loss: 0.0621 - accuracy: 0.9861\n"
     ]
    }
   ],
   "source": [
    "loss, acc = model.evaluate(X_test, y_test, batch_size = BATCH_SIZE, verbose = verbosity)"
   ]
  },
  {
   "cell_type": "code",
   "execution_count": 0,
   "metadata": {
    "id": "9aMl30k0s4Ek",
    "colab_type": "code",
    "colab": {}
   },
   "outputs": [],
   "source": [
    "training_accuracy = history.history['accuracy']\n",
    "validation_accuracy = history.history['val_accuracy']\n",
    "training_loss = history.history['loss']\n",
    "validation_loss = history.history['val_loss']"
   ]
  },
  {
   "cell_type": "code",
   "execution_count": 0,
   "metadata": {
    "id": "V7M4DxWjs5xo",
    "colab_type": "code",
    "colab": {}
   },
   "outputs": [],
   "source": [
    "def plot_metric(x,y1,y2,color1,color2,label1,label2, title):\n",
    "  plt.subplots(figsize=(20,8))\n",
    "  \n",
    "  plt.plot(x, y1, 'b', label=label1, color=color1)\n",
    "  plt.plot(x, y2, 'b', label=label2, color=color2)\n",
    "  plt.title(title)\n",
    "  plt.legend()"
   ]
  },
  {
   "cell_type": "code",
   "execution_count": 17,
   "metadata": {
    "id": "X_0AK0NZs7HI",
    "colab_type": "code",
    "colab": {
     "base_uri": "https://localhost:8080/",
     "height": 501.0
    },
    "outputId": "9a4efaeb-2fbe-4de8-f912-355edf36d6c6",
    "executionInfo": {
     "status": "ok",
     "timestamp": 1.591532081281E12,
     "user_tz": -180.0,
     "elapsed": 23087.0,
     "user": {
      "displayName": "Ioana Chelaru",
      "photoUrl": "",
      "userId": "17201995814344921386"
     }
    }
   },
   "outputs": [
    {
     "data": {
      "image/png": "[encoded data removed]",
      "text/plain": [
       "<Figure size 1440x576 with 1 Axes>"
      ]
     },
     "metadata": {
      "tags": []
     },
     "output_type": "display_data"
    }
   ],
   "source": [
    "epochs = range(len(training_accuracy))\n",
    "sns.set(style=\"white\")\n",
    "plot_metric(epochs, training_accuracy, validation_accuracy, 'red','blue','training','validation', 'Training and valdiation ACCURACY')"
   ]
  },
  {
   "cell_type": "code",
   "execution_count": 18,
   "metadata": {
    "id": "TnvW9Lx0s_Xp",
    "colab_type": "code",
    "colab": {
     "base_uri": "https://localhost:8080/",
     "height": 501.0
    },
    "outputId": "32490e42-15e3-498f-eb74-92722b33497e",
    "executionInfo": {
     "status": "ok",
     "timestamp": 1.591532081969E12,
     "user_tz": -180.0,
     "elapsed": 22461.0,
     "user": {
      "displayName": "Ioana Chelaru",
      "photoUrl": "",
      "userId": "17201995814344921386"
     }
    }
   },
   "outputs": [
    {
     "data": {
      "image/png": "[encoded data removed]",
      "text/plain": [
       "<Figure size 1440x576 with 1 Axes>"
      ]
     },
     "metadata": {
      "tags": []
     },
     "output_type": "display_data"
    }
   ],
   "source": [
    "epochs = range(len(training_accuracy))\n",
    "plot_metric(epochs, training_loss, validation_loss, 'red','blue','training','validation', 'Training and valdiation LOSS')"
   ]
  },
  {
   "cell_type": "code",
   "execution_count": 0,
   "metadata": {
    "id": "hnp7rIcqs_sb",
    "colab_type": "code",
    "colab": {}
   },
   "outputs": [],
   "source": [
    "# make prediction over test data\n",
    "y_pred = model.predict(X_test)\n",
    "\n",
    "# transform y_pred using threshold\n",
    "y_pred = (y_pred > threshold)"
   ]
  },
  {
   "cell_type": "code",
   "execution_count": 81,
   "metadata": {
    "id": "eyj1Q_vHtENn",
    "colab_type": "code",
    "colab": {
     "base_uri": "https://localhost:8080/",
     "height": 502.0
    },
    "outputId": "936fd877-3c68-4df9-f8f0-1e6bc42b9dca",
    "executionInfo": {
     "status": "ok",
     "timestamp": 1.591534200924E12,
     "user_tz": -180.0,
     "elapsed": 980.0,
     "user": {
      "displayName": "Ioana Chelaru",
      "photoUrl": "",
      "userId": "17201995814344921386"
     }
    }
   },
   "outputs": [
    {
     "data": {
      "image/png": "[encoded data removed]",
      "text/plain": [
       "<Figure size 576x576 with 2 Axes>"
      ]
     },
     "metadata": {
      "tags": []
     },
     "output_type": "display_data"
    }
   ],
   "source": [
    "# build confusion matrix\n",
    "conf_matrix = confusion_matrix(y_test, y_pred)\n",
    "figure = plt.figure(figsize=(8, 8))\n",
    "sns.heatmap(conf_matrix, annot = True, cmap = plt.cm.Blues, fmt = \"d\")\n",
    "plt.ylabel('True label')\n",
    "plt.xlabel('Predicted label')\n",
    "plt.show()"
   ]
  },
  {
   "cell_type": "code",
   "execution_count": 82,
   "metadata": {
    "id": "9m9iLPr7tHW0",
    "colab_type": "code",
    "colab": {
     "base_uri": "https://localhost:8080/",
     "height": 177.0
    },
    "outputId": "a051e54e-69d5-43e5-d094-610929514b52",
    "executionInfo": {
     "status": "ok",
     "timestamp": 1.591534204661E12,
     "user_tz": -180.0,
     "elapsed": 899.0,
     "user": {
      "displayName": "Ioana Chelaru",
      "photoUrl": "",
      "userId": "17201995814344921386"
     }
    }
   },
   "outputs": [
    {
     "name": "stdout",
     "output_type": "stream",
     "text": [
      "              precision    recall  f1-score   support\n",
      "\n",
      "        Open       0.99      1.00      1.00       115\n",
      "       Close       1.00      0.99      1.00       172\n",
      "\n",
      "    accuracy                           1.00       287\n",
      "   macro avg       1.00      1.00      1.00       287\n",
      "weighted avg       1.00      1.00      1.00       287\n",
      "\n"
     ]
    }
   ],
   "source": [
    "# overview on precision and recall\n",
    "class_names = ['Open', 'Close']\n",
    "print(classification_report(y_test, y_pred, target_names = class_names))"
   ]
  },
  {
   "cell_type": "code",
   "execution_count": 0,
   "metadata": {
    "id": "01cQA-yj0Vou",
    "colab_type": "code",
    "colab": {}
   },
   "outputs": [],
   "source": [
    "# make prediction over all data\n",
    "y_pred_all = model.predict(imgs)\n",
    "\n",
    "# transform y_pred using threshold\n",
    "y_pred_all = (y_pred_all > threshold)"
   ]
  },
  {
   "cell_type": "code",
   "execution_count": 84,
   "metadata": {
    "id": "dWvz2R1k0a2x",
    "colab_type": "code",
    "colab": {
     "base_uri": "https://localhost:8080/",
     "height": 502.0
    },
    "outputId": "65dc43e6-b169-4d19-833b-d6e12368078d",
    "executionInfo": {
     "status": "ok",
     "timestamp": 1.591534229084E12,
     "user_tz": -180.0,
     "elapsed": 2464.0,
     "user": {
      "displayName": "Ioana Chelaru",
      "photoUrl": "",
      "userId": "17201995814344921386"
     }
    }
   },
   "outputs": [
    {
     "data": {
      "image/png": "[encoded data removed]",
      "text/plain": [
       "<Figure size 576x576 with 2 Axes>"
      ]
     },
     "metadata": {
      "tags": []
     },
     "output_type": "display_data"
    }
   ],
   "source": [
    "# build confusion matrix\n",
    "conf_matrix = confusion_matrix(tgs, y_pred_all)\n",
    "figure = plt.figure(figsize=(8, 8))\n",
    "sns.heatmap(conf_matrix, annot = True, cmap = plt.cm.Blues, fmt = \"d\")\n",
    "plt.ylabel('True label')\n",
    "plt.xlabel('Predicted label')\n",
    "plt.show()"
   ]
  },
  {
   "cell_type": "markdown",
   "metadata": {
    "id": "fTQ8jrjzzJae",
    "colab_type": "text"
   },
   "source": [
    "#STEP #9 - Save the model"
   ]
  },
  {
   "cell_type": "code",
   "execution_count": 0,
   "metadata": {
    "id": "XNOHSvh-tK8d",
    "colab_type": "code",
    "colab": {}
   },
   "outputs": [],
   "source": [
    "# the path and name of the model\n",
    "path = '/content/drive/My Drive/eyeClassifier_v6.hdf5' \n",
    "model.save(path)"
   ]
  },
  {
   "cell_type": "markdown",
   "metadata": {
    "id": "3MiA7m7dzOia",
    "colab_type": "text"
   },
   "source": [
    "#STEP #10 - Convert the model to TFLite"
   ]
  },
  {
   "cell_type": "code",
   "execution_count": 32,
   "metadata": {
    "id": "dfjqqzkuuGg_",
    "colab_type": "code",
    "colab": {
     "base_uri": "https://localhost:8080/",
     "height": 108.0
    },
    "outputId": "e561456a-dfab-4054-83d5-a8ea533eb85d",
    "executionInfo": {
     "status": "ok",
     "timestamp": 1.59153237836E12,
     "user_tz": -180.0,
     "elapsed": 1923.0,
     "user": {
      "displayName": "Ioana Chelaru",
      "photoUrl": "",
      "userId": "17201995814344921386"
     }
    }
   },
   "outputs": [
    {
     "name": "stdout",
     "output_type": "stream",
     "text": [
      "WARNING:tensorflow:From /usr/local/lib/python3.6/dist-packages/tensorflow/python/ops/resource_variable_ops.py:1817: calling BaseResourceVariable.__init__ (from tensorflow.python.ops.resource_variable_ops) with constraint is deprecated and will be removed in a future version.\n",
      "Instructions for updating:\n",
      "If using Keras pass *_constraint arguments to layers.\n",
      "INFO:tensorflow:Assets written to: /content/drive/My Drive/eyeClassifier_v6_tflite/assets\n"
     ]
    }
   ],
   "source": [
    "model.save('/content/drive/My Drive/eyeClassifier_v6_tflite')"
   ]
  },
  {
   "cell_type": "code",
   "execution_count": 0,
   "metadata": {
    "id": "JQLPCoU5t8hR",
    "colab_type": "code",
    "colab": {}
   },
   "outputs": [],
   "source": [
    "converter = tf.lite.TFLiteConverter.from_saved_model('/content/drive/My Drive/eyeClassifier_v6_tflite')\n",
    "tflite_model = converter.convert()"
   ]
  },
  {
   "cell_type": "code",
   "execution_count": 34,
   "metadata": {
    "id": "UjXSGpNxtzle",
    "colab_type": "code",
    "colab": {
     "base_uri": "https://localhost:8080/",
     "height": 35.0
    },
    "outputId": "7dfad0c9-2100-4d77-9133-fbf5e8135fab",
    "executionInfo": {
     "status": "ok",
     "timestamp": 1.591532410961E12,
     "user_tz": -180.0,
     "elapsed": 663.0,
     "user": {
      "displayName": "Ioana Chelaru",
      "photoUrl": "",
      "userId": "17201995814344921386"
     }
    }
   },
   "outputs": [
    {
     "data": {
      "text/plain": [
       "4574784"
      ]
     },
     "execution_count": 34,
     "metadata": {
      "tags": []
     },
     "output_type": "execute_result"
    }
   ],
   "source": [
    "open(\"/content/drive/My Drive/eyesClassifier_v6.tflite\", \"wb\").write(tflite_model)"
   ]
  },
  {
   "cell_type": "markdown",
   "metadata": {
    "id": "v9Bmzluoza5s",
    "colab_type": "text"
   },
   "source": [
    "#STEP #11 - TFLite Inference"
   ]
  },
  {
   "cell_type": "code",
   "execution_count": 0,
   "metadata": {
    "id": "m0P5yxXLuVVh",
    "colab_type": "code",
    "colab": {}
   },
   "outputs": [],
   "source": [
    "# Load TFLite model and allocate tensors.\n",
    "interpreter = tf.lite.Interpreter(model_path=\"/content/drive/My Drive/eyesClassifier_v6.tflite\")\n",
    "interpreter.allocate_tensors()"
   ]
  },
  {
   "cell_type": "code",
   "execution_count": 0,
   "metadata": {
    "id": "4XyIEeQqubzH",
    "colab_type": "code",
    "colab": {}
   },
   "outputs": [],
   "source": [
    "# make prediction with .hdf5 model over all data\n",
    "y_pred = model.predict(X_test)\n",
    "\n",
    "# Get input and output tensors.\n",
    "input_details = interpreter.get_input_details()\n",
    "output_details = interpreter.get_output_details()\n",
    "\n",
    "# make prediction with .tflite model over all data\n",
    "y_pred_tflite = []\n",
    "for i in X_test:\n",
    "\n",
    "  # add one more axis\n",
    "  i = i[np.newaxis,:,:]\n",
    "\n",
    "  interpreter.set_tensor(input_details[0]['index'], i)\n",
    "  interpreter.invoke()\n",
    "  output_data = interpreter.get_tensor(output_details[0]['index'])\n",
    "  y_pred_tflite.append(output_data)"
   ]
  },
  {
   "cell_type": "code",
   "execution_count": 0,
   "metadata": {
    "id": "OudYTxXLukgT",
    "colab_type": "code",
    "colab": {}
   },
   "outputs": [],
   "source": [
    "y_pred_tflite = np.asarray(y_pred_tflite)"
   ]
  },
  {
   "cell_type": "code",
   "execution_count": 87,
   "metadata": {
    "id": "t0uSQtczunBw",
    "colab_type": "code",
    "colab": {
     "base_uri": "https://localhost:8080/",
     "height": 35.0
    },
    "outputId": "181dd7ed-59b1-4e39-df56-41e6984640f6",
    "executionInfo": {
     "status": "ok",
     "timestamp": 1.591534249809E12,
     "user_tz": -180.0,
     "elapsed": 578.0,
     "user": {
      "displayName": "Ioana Chelaru",
      "photoUrl": "",
      "userId": "17201995814344921386"
     }
    }
   },
   "outputs": [
    {
     "data": {
      "text/plain": [
       "(287, 1)"
      ]
     },
     "execution_count": 87,
     "metadata": {
      "tags": []
     },
     "output_type": "execute_result"
    }
   ],
   "source": [
    "y_pred.shape"
   ]
  },
  {
   "cell_type": "code",
   "execution_count": 88,
   "metadata": {
    "id": "aYAdRIE5urld",
    "colab_type": "code",
    "colab": {
     "base_uri": "https://localhost:8080/",
     "height": 35.0
    },
    "outputId": "113dca0a-8fed-4e50-a78e-228d49061128",
    "executionInfo": {
     "status": "ok",
     "timestamp": 1.591534251105E12,
     "user_tz": -180.0,
     "elapsed": 655.0,
     "user": {
      "displayName": "Ioana Chelaru",
      "photoUrl": "",
      "userId": "17201995814344921386"
     }
    }
   },
   "outputs": [
    {
     "data": {
      "text/plain": [
       "(287, 1, 1)"
      ]
     },
     "execution_count": 88,
     "metadata": {
      "tags": []
     },
     "output_type": "execute_result"
    }
   ],
   "source": [
    "y_pred_tflite.shape"
   ]
  },
  {
   "cell_type": "code",
   "execution_count": 89,
   "metadata": {
    "id": "6-u0xRkCut1T",
    "colab_type": "code",
    "colab": {
     "base_uri": "https://localhost:8080/",
     "height": 1000.0
    },
    "outputId": "0a1bcb51-c06f-4798-f8e0-d7c56f69b027",
    "executionInfo": {
     "status": "ok",
     "timestamp": 1.591534253754E12,
     "user_tz": -180.0,
     "elapsed": 868.0,
     "user": {
      "displayName": "Ioana Chelaru",
      "photoUrl": "",
      "userId": "17201995814344921386"
     }
    }
   },
   "outputs": [
    {
     "data": {
      "text/plain": [
       "array([[ True],\n",
       "       [ True],\n",
       "       [ True],\n",
       "       [ True],\n",
       "       [ True],\n",
       "       [ True],\n",
       "       [ True],\n",
       "       [ True],\n",
       "       [ True],\n",
       "       [ True],\n",
       "       [ True],\n",
       "       [ True],\n",
       "       [ True],\n",
       "       [False],\n",
       "       [ True],\n",
       "       [ True],\n",
       "       [False],\n",
       "       [ True],\n",
       "       [False],\n",
       "       [ True],\n",
       "       [False],\n",
       "       [ True],\n",
       "       [ True],\n",
       "       [ True],\n",
       "       [False],\n",
       "       [ True],\n",
       "       [ True],\n",
       "       [False],\n",
       "       [ True],\n",
       "       [ True],\n",
       "       [False],\n",
       "       [False],\n",
       "       [False],\n",
       "       [False],\n",
       "       [ True],\n",
       "       [ True],\n",
       "       [ True],\n",
       "       [False],\n",
       "       [False],\n",
       "       [ True],\n",
       "       [ True],\n",
       "       [False],\n",
       "       [ True],\n",
       "       [ True],\n",
       "       [False],\n",
       "       [ True],\n",
       "       [False],\n",
       "       [ True],\n",
       "       [False],\n",
       "       [ True],\n",
       "       [ True],\n",
       "       [ True],\n",
       "       [ True],\n",
       "       [False],\n",
       "       [ True],\n",
       "       [ True],\n",
       "       [ True],\n",
       "       [False],\n",
       "       [ True],\n",
       "       [ True],\n",
       "       [False],\n",
       "       [ True],\n",
       "       [ True],\n",
       "       [ True],\n",
       "       [False],\n",
       "       [False],\n",
       "       [ True],\n",
       "       [False],\n",
       "       [False],\n",
       "       [ True],\n",
       "       [ True],\n",
       "       [False],\n",
       "       [False],\n",
       "       [ True],\n",
       "       [ True],\n",
       "       [ True],\n",
       "       [ True],\n",
       "       [False],\n",
       "       [False],\n",
       "       [ True],\n",
       "       [ True],\n",
       "       [False],\n",
       "       [ True],\n",
       "       [ True],\n",
       "       [ True],\n",
       "       [False],\n",
       "       [ True],\n",
       "       [ True],\n",
       "       [False],\n",
       "       [False],\n",
       "       [False],\n",
       "       [ True],\n",
       "       [ True],\n",
       "       [ True],\n",
       "       [False],\n",
       "       [False],\n",
       "       [ True],\n",
       "       [False],\n",
       "       [ True],\n",
       "       [ True],\n",
       "       [False],\n",
       "       [ True],\n",
       "       [ True],\n",
       "       [ True],\n",
       "       [False],\n",
       "       [ True],\n",
       "       [False],\n",
       "       [ True],\n",
       "       [ True],\n",
       "       [ True],\n",
       "       [False],\n",
       "       [False],\n",
       "       [ True],\n",
       "       [ True],\n",
       "       [False],\n",
       "       [ True],\n",
       "       [False],\n",
       "       [ True],\n",
       "       [ True],\n",
       "       [False],\n",
       "       [ True],\n",
       "       [ True],\n",
       "       [ True],\n",
       "       [False],\n",
       "       [False],\n",
       "       [ True],\n",
       "       [ True],\n",
       "       [ True],\n",
       "       [False],\n",
       "       [ True],\n",
       "       [False],\n",
       "       [ True],\n",
       "       [ True],\n",
       "       [False],\n",
       "       [ True],\n",
       "       [False],\n",
       "       [False],\n",
       "       [ True],\n",
       "       [False],\n",
       "       [ True],\n",
       "       [False],\n",
       "       [ True],\n",
       "       [ True],\n",
       "       [ True],\n",
       "       [ True],\n",
       "       [ True],\n",
       "       [False],\n",
       "       [False],\n",
       "       [ True],\n",
       "       [ True],\n",
       "       [ True],\n",
       "       [False],\n",
       "       [False],\n",
       "       [False],\n",
       "       [ True],\n",
       "       [ True],\n",
       "       [ True],\n",
       "       [False],\n",
       "       [False],\n",
       "       [False],\n",
       "       [ True],\n",
       "       [ True],\n",
       "       [ True],\n",
       "       [ True],\n",
       "       [ True],\n",
       "       [False],\n",
       "       [False],\n",
       "       [ True],\n",
       "       [ True],\n",
       "       [ True],\n",
       "       [False],\n",
       "       [ True],\n",
       "       [ True],\n",
       "       [ True],\n",
       "       [ True],\n",
       "       [False],\n",
       "       [False],\n",
       "       [False],\n",
       "       [False],\n",
       "       [False],\n",
       "       [ True],\n",
       "       [ True],\n",
       "       [ True],\n",
       "       [ True],\n",
       "       [ True],\n",
       "       [ True],\n",
       "       [ True],\n",
       "       [ True],\n",
       "       [False],\n",
       "       [False],\n",
       "       [ True],\n",
       "       [ True],\n",
       "       [ True],\n",
       "       [ True],\n",
       "       [False],\n",
       "       [False],\n",
       "       [ True],\n",
       "       [ True],\n",
       "       [ True],\n",
       "       [ True],\n",
       "       [ True],\n",
       "       [ True],\n",
       "       [False],\n",
       "       [False],\n",
       "       [ True],\n",
       "       [False],\n",
       "       [False],\n",
       "       [ True],\n",
       "       [False],\n",
       "       [ True],\n",
       "       [False],\n",
       "       [ True],\n",
       "       [False],\n",
       "       [False],\n",
       "       [ True],\n",
       "       [ True],\n",
       "       [ True],\n",
       "       [ True],\n",
       "       [ True],\n",
       "       [ True],\n",
       "       [False],\n",
       "       [ True],\n",
       "       [False],\n",
       "       [ True],\n",
       "       [ True],\n",
       "       [False],\n",
       "       [False],\n",
       "       [False],\n",
       "       [False],\n",
       "       [False],\n",
       "       [False],\n",
       "       [False],\n",
       "       [ True],\n",
       "       [False],\n",
       "       [ True],\n",
       "       [False],\n",
       "       [ True],\n",
       "       [ True],\n",
       "       [False],\n",
       "       [ True],\n",
       "       [False],\n",
       "       [ True],\n",
       "       [False],\n",
       "       [False],\n",
       "       [False],\n",
       "       [ True],\n",
       "       [False],\n",
       "       [ True],\n",
       "       [ True],\n",
       "       [False],\n",
       "       [ True],\n",
       "       [ True],\n",
       "       [False],\n",
       "       [ True],\n",
       "       [ True],\n",
       "       [False],\n",
       "       [False],\n",
       "       [ True],\n",
       "       [False],\n",
       "       [ True],\n",
       "       [ True],\n",
       "       [False],\n",
       "       [False],\n",
       "       [False],\n",
       "       [ True],\n",
       "       [False],\n",
       "       [ True],\n",
       "       [False],\n",
       "       [ True],\n",
       "       [False],\n",
       "       [ True],\n",
       "       [False],\n",
       "       [ True],\n",
       "       [ True],\n",
       "       [ True],\n",
       "       [False],\n",
       "       [False],\n",
       "       [ True],\n",
       "       [False],\n",
       "       [False],\n",
       "       [ True],\n",
       "       [False],\n",
       "       [False],\n",
       "       [ True],\n",
       "       [ True],\n",
       "       [ True],\n",
       "       [False]])"
      ]
     },
     "execution_count": 89,
     "metadata": {
      "tags": []
     },
     "output_type": "execute_result"
    }
   ],
   "source": [
    "# transform y_pred using threshold\n",
    "y_pred = (y_pred > 0.5)\n",
    "\n",
    "# visualize y_pred after transformation\n",
    "y_pred"
   ]
  },
  {
   "cell_type": "code",
   "execution_count": 90,
   "metadata": {
    "id": "vFcm3VA8u0Zy",
    "colab_type": "code",
    "colab": {
     "base_uri": "https://localhost:8080/",
     "height": 1000.0
    },
    "outputId": "95f8c411-aae6-4927-977f-0cb27b845aef",
    "executionInfo": {
     "status": "ok",
     "timestamp": 1.591534255995E12,
     "user_tz": -180.0,
     "elapsed": 1234.0,
     "user": {
      "displayName": "Ioana Chelaru",
      "photoUrl": "",
      "userId": "17201995814344921386"
     }
    }
   },
   "outputs": [
    {
     "data": {
      "text/plain": [
       "array([[ True],\n",
       "       [ True],\n",
       "       [ True],\n",
       "       [ True],\n",
       "       [ True],\n",
       "       [ True],\n",
       "       [ True],\n",
       "       [ True],\n",
       "       [ True],\n",
       "       [ True],\n",
       "       [ True],\n",
       "       [ True],\n",
       "       [ True],\n",
       "       [False],\n",
       "       [ True],\n",
       "       [ True],\n",
       "       [False],\n",
       "       [ True],\n",
       "       [False],\n",
       "       [ True],\n",
       "       [False],\n",
       "       [ True],\n",
       "       [ True],\n",
       "       [ True],\n",
       "       [False],\n",
       "       [ True],\n",
       "       [ True],\n",
       "       [False],\n",
       "       [ True],\n",
       "       [ True],\n",
       "       [False],\n",
       "       [False],\n",
       "       [False],\n",
       "       [False],\n",
       "       [ True],\n",
       "       [ True],\n",
       "       [ True],\n",
       "       [False],\n",
       "       [False],\n",
       "       [ True],\n",
       "       [ True],\n",
       "       [False],\n",
       "       [ True],\n",
       "       [ True],\n",
       "       [False],\n",
       "       [ True],\n",
       "       [False],\n",
       "       [ True],\n",
       "       [False],\n",
       "       [ True],\n",
       "       [ True],\n",
       "       [ True],\n",
       "       [ True],\n",
       "       [False],\n",
       "       [ True],\n",
       "       [ True],\n",
       "       [ True],\n",
       "       [False],\n",
       "       [ True],\n",
       "       [ True],\n",
       "       [False],\n",
       "       [ True],\n",
       "       [ True],\n",
       "       [ True],\n",
       "       [False],\n",
       "       [False],\n",
       "       [ True],\n",
       "       [False],\n",
       "       [False],\n",
       "       [ True],\n",
       "       [ True],\n",
       "       [False],\n",
       "       [False],\n",
       "       [ True],\n",
       "       [ True],\n",
       "       [ True],\n",
       "       [ True],\n",
       "       [False],\n",
       "       [False],\n",
       "       [ True],\n",
       "       [ True],\n",
       "       [False],\n",
       "       [ True],\n",
       "       [ True],\n",
       "       [ True],\n",
       "       [False],\n",
       "       [ True],\n",
       "       [ True],\n",
       "       [False],\n",
       "       [False],\n",
       "       [False],\n",
       "       [ True],\n",
       "       [ True],\n",
       "       [ True],\n",
       "       [False],\n",
       "       [False],\n",
       "       [ True],\n",
       "       [False],\n",
       "       [ True],\n",
       "       [ True],\n",
       "       [False],\n",
       "       [ True],\n",
       "       [ True],\n",
       "       [ True],\n",
       "       [False],\n",
       "       [ True],\n",
       "       [False],\n",
       "       [ True],\n",
       "       [ True],\n",
       "       [ True],\n",
       "       [False],\n",
       "       [False],\n",
       "       [ True],\n",
       "       [ True],\n",
       "       [False],\n",
       "       [ True],\n",
       "       [False],\n",
       "       [ True],\n",
       "       [ True],\n",
       "       [False],\n",
       "       [ True],\n",
       "       [ True],\n",
       "       [ True],\n",
       "       [False],\n",
       "       [False],\n",
       "       [ True],\n",
       "       [ True],\n",
       "       [ True],\n",
       "       [False],\n",
       "       [ True],\n",
       "       [False],\n",
       "       [ True],\n",
       "       [ True],\n",
       "       [False],\n",
       "       [ True],\n",
       "       [False],\n",
       "       [False],\n",
       "       [ True],\n",
       "       [False],\n",
       "       [ True],\n",
       "       [False],\n",
       "       [ True],\n",
       "       [ True],\n",
       "       [ True],\n",
       "       [ True],\n",
       "       [ True],\n",
       "       [False],\n",
       "       [False],\n",
       "       [ True],\n",
       "       [ True],\n",
       "       [ True],\n",
       "       [False],\n",
       "       [False],\n",
       "       [False],\n",
       "       [ True],\n",
       "       [ True],\n",
       "       [ True],\n",
       "       [False],\n",
       "       [False],\n",
       "       [False],\n",
       "       [ True],\n",
       "       [ True],\n",
       "       [ True],\n",
       "       [ True],\n",
       "       [ True],\n",
       "       [False],\n",
       "       [False],\n",
       "       [ True],\n",
       "       [ True],\n",
       "       [ True],\n",
       "       [False],\n",
       "       [ True],\n",
       "       [ True],\n",
       "       [ True],\n",
       "       [ True],\n",
       "       [False],\n",
       "       [False],\n",
       "       [False],\n",
       "       [False],\n",
       "       [False],\n",
       "       [ True],\n",
       "       [ True],\n",
       "       [ True],\n",
       "       [ True],\n",
       "       [ True],\n",
       "       [ True],\n",
       "       [ True],\n",
       "       [ True],\n",
       "       [False],\n",
       "       [False],\n",
       "       [ True],\n",
       "       [ True],\n",
       "       [ True],\n",
       "       [ True],\n",
       "       [False],\n",
       "       [False],\n",
       "       [ True],\n",
       "       [ True],\n",
       "       [ True],\n",
       "       [ True],\n",
       "       [ True],\n",
       "       [ True],\n",
       "       [False],\n",
       "       [False],\n",
       "       [ True],\n",
       "       [False],\n",
       "       [False],\n",
       "       [ True],\n",
       "       [False],\n",
       "       [ True],\n",
       "       [False],\n",
       "       [ True],\n",
       "       [False],\n",
       "       [False],\n",
       "       [ True],\n",
       "       [ True],\n",
       "       [ True],\n",
       "       [ True],\n",
       "       [ True],\n",
       "       [ True],\n",
       "       [False],\n",
       "       [ True],\n",
       "       [False],\n",
       "       [ True],\n",
       "       [ True],\n",
       "       [False],\n",
       "       [False],\n",
       "       [False],\n",
       "       [False],\n",
       "       [False],\n",
       "       [False],\n",
       "       [False],\n",
       "       [ True],\n",
       "       [False],\n",
       "       [ True],\n",
       "       [False],\n",
       "       [ True],\n",
       "       [ True],\n",
       "       [False],\n",
       "       [ True],\n",
       "       [False],\n",
       "       [ True],\n",
       "       [False],\n",
       "       [False],\n",
       "       [False],\n",
       "       [ True],\n",
       "       [False],\n",
       "       [ True],\n",
       "       [ True],\n",
       "       [False],\n",
       "       [ True],\n",
       "       [ True],\n",
       "       [False],\n",
       "       [ True],\n",
       "       [ True],\n",
       "       [False],\n",
       "       [False],\n",
       "       [ True],\n",
       "       [False],\n",
       "       [ True],\n",
       "       [ True],\n",
       "       [False],\n",
       "       [False],\n",
       "       [False],\n",
       "       [ True],\n",
       "       [False],\n",
       "       [ True],\n",
       "       [False],\n",
       "       [ True],\n",
       "       [False],\n",
       "       [ True],\n",
       "       [False],\n",
       "       [ True],\n",
       "       [ True],\n",
       "       [ True],\n",
       "       [False],\n",
       "       [False],\n",
       "       [ True],\n",
       "       [False],\n",
       "       [False],\n",
       "       [ True],\n",
       "       [False],\n",
       "       [False],\n",
       "       [ True],\n",
       "       [ True],\n",
       "       [ True],\n",
       "       [False]])"
      ]
     },
     "execution_count": 90,
     "metadata": {
      "tags": []
     },
     "output_type": "execute_result"
    }
   ],
   "source": [
    "# transform y_pred using threshold\n",
    "y_pred_tflite = (y_pred > 0.5)\n",
    "\n",
    "# visualize y_pred after transformation\n",
    "y_pred_tflite"
   ]
  },
  {
   "cell_type": "code",
   "execution_count": 91,
   "metadata": {
    "id": "VF6btTP9u1Ee",
    "colab_type": "code",
    "colab": {
     "base_uri": "https://localhost:8080/",
     "height": 502.0
    },
    "outputId": "c3724426-aec9-4ad2-ddfc-0cff954eb776",
    "executionInfo": {
     "status": "ok",
     "timestamp": 1.591534258159E12,
     "user_tz": -180.0,
     "elapsed": 1466.0,
     "user": {
      "displayName": "Ioana Chelaru",
      "photoUrl": "",
      "userId": "17201995814344921386"
     }
    }
   },
   "outputs": [
    {
     "data": {
      "image/png": "[encoded data removed]",
      "text/plain": [
       "<Figure size 576x576 with 2 Axes>"
      ]
     },
     "metadata": {
      "tags": []
     },
     "output_type": "display_data"
    }
   ],
   "source": [
    "# build confusion matrix\n",
    "conf_matrix = confusion_matrix(y_test, y_pred)\n",
    "figure = plt.figure(figsize=(8, 8))\n",
    "sns.heatmap(conf_matrix, annot = True, cmap = plt.cm.Blues, fmt = \"d\")\n",
    "plt.ylabel('True label')\n",
    "plt.xlabel('Predicted label')\n",
    "plt.show()"
   ]
  },
  {
   "cell_type": "code",
   "execution_count": 92,
   "metadata": {
    "id": "sT1ElXeYu388",
    "colab_type": "code",
    "colab": {
     "base_uri": "https://localhost:8080/",
     "height": 502.0
    },
    "outputId": "633d43a3-b480-48ff-f821-ac46770ffec9",
    "executionInfo": {
     "status": "ok",
     "timestamp": 1.59153426072E12,
     "user_tz": -180.0,
     "elapsed": 1382.0,
     "user": {
      "displayName": "Ioana Chelaru",
      "photoUrl": "",
      "userId": "17201995814344921386"
     }
    }
   },
   "outputs": [
    {
     "data": {
      "image/png": "[encoded data removed]",
      "text/plain": [
       "<Figure size 576x576 with 2 Axes>"
      ]
     },
     "metadata": {
      "tags": []
     },
     "output_type": "display_data"
    }
   ],
   "source": [
    "# build confusion matrix\n",
    "conf_matrix = confusion_matrix(y_test, y_pred_tflite)\n",
    "figure = plt.figure(figsize=(8, 8))\n",
    "sns.heatmap(conf_matrix, annot = True, cmap = plt.cm.Blues, fmt = \"d\")\n",
    "plt.ylabel('True label')\n",
    "plt.xlabel('Predicted label')\n",
    "plt.show()"
   ]
  },
  {
   "cell_type": "code",
   "execution_count": 93,
   "metadata": {
    "id": "mk_7zPTuu7WD",
    "colab_type": "code",
    "colab": {
     "base_uri": "https://localhost:8080/",
     "height": 177.0
    },
    "outputId": "94caeefb-11dd-46b7-97e7-6e80d5a074b0",
    "executionInfo": {
     "status": "ok",
     "timestamp": 1.591534264641E12,
     "user_tz": -180.0,
     "elapsed": 1000.0,
     "user": {
      "displayName": "Ioana Chelaru",
      "photoUrl": "",
      "userId": "17201995814344921386"
     }
    }
   },
   "outputs": [
    {
     "name": "stdout",
     "output_type": "stream",
     "text": [
      "              precision    recall  f1-score   support\n",
      "\n",
      "        Open       0.99      1.00      1.00       115\n",
      "       Close       1.00      0.99      1.00       172\n",
      "\n",
      "    accuracy                           1.00       287\n",
      "   macro avg       1.00      1.00      1.00       287\n",
      "weighted avg       1.00      1.00      1.00       287\n",
      "\n"
     ]
    }
   ],
   "source": [
    "# overview on precision and recall .hdf5 model\n",
    "class_names = ['Open', 'Close']\n",
    "print(classification_report(y_test, y_pred, target_names = class_names))"
   ]
  },
  {
   "cell_type": "code",
   "execution_count": 94,
   "metadata": {
    "id": "-6qd2xpQvAdq",
    "colab_type": "code",
    "colab": {
     "base_uri": "https://localhost:8080/",
     "height": 177.0
    },
    "outputId": "cd84b0d1-57e0-45ca-f412-1ddcd2bd26be",
    "executionInfo": {
     "status": "ok",
     "timestamp": 1.59153426747E12,
     "user_tz": -180.0,
     "elapsed": 916.0,
     "user": {
      "displayName": "Ioana Chelaru",
      "photoUrl": "",
      "userId": "17201995814344921386"
     }
    }
   },
   "outputs": [
    {
     "name": "stdout",
     "output_type": "stream",
     "text": [
      "              precision    recall  f1-score   support\n",
      "\n",
      "        Open       0.99      1.00      1.00       115\n",
      "       Close       1.00      0.99      1.00       172\n",
      "\n",
      "    accuracy                           1.00       287\n",
      "   macro avg       1.00      1.00      1.00       287\n",
      "weighted avg       1.00      1.00      1.00       287\n",
      "\n"
     ]
    }
   ],
   "source": [
    "# overview on precision and recall .tflite model\n",
    "class_names = ['Open', 'Close']\n",
    "print(classification_report(y_test, y_pred_tflite, target_names = class_names))"
   ]
  },
  {
   "cell_type": "markdown",
   "metadata": {
    "id": "7TMaSfxizkY4",
    "colab_type": "text"
   },
   "source": [
    "#STEP #12 - Visualize missclassified data"
   ]
  },
  {
   "cell_type": "code",
   "execution_count": 173,
   "metadata": {
    "id": "Gm4vQI4mvD93",
    "colab_type": "code",
    "colab": {
     "base_uri": "https://localhost:8080/",
     "height": 35.0
    },
    "outputId": "4ed22ee5-5df4-446d-9232-91d8f4d2d0d7",
    "executionInfo": {
     "status": "ok",
     "timestamp": 1.591536189512E12,
     "user_tz": -180.0,
     "elapsed": 1012.0,
     "user": {
      "displayName": "Ioana Chelaru",
      "photoUrl": "",
      "userId": "17201995814344921386"
     }
    }
   },
   "outputs": [
    {
     "name": "stdout",
     "output_type": "stream",
     "text": [
      "[246]\n"
     ]
    }
   ],
   "source": [
    "# Visualize the data that was missclassified from the testing set\n",
    "i=0\n",
    "imgs_fail_test=[]\n",
    "while i < len(y_pred):\n",
    "  if y_pred[i][0] is not (y_test[i][0] > 0.5):\n",
    "    imgs_fail_test.append(i)\n",
    "  i=i+1\n",
    "\n",
    "print(imgs_fail_test)"
   ]
  },
  {
   "cell_type": "code",
   "execution_count": 176,
   "metadata": {
    "id": "sMDESY3Y8zpf",
    "colab_type": "code",
    "colab": {
     "base_uri": "https://localhost:8080/",
     "height": 304.0
    },
    "outputId": "dceb2798-19a8-4a3e-96ba-c0544f801d84",
    "executionInfo": {
     "status": "ok",
     "timestamp": 1.591536262143E12,
     "user_tz": -180.0,
     "elapsed": 2114.0,
     "user": {
      "displayName": "Ioana Chelaru",
      "photoUrl": "",
      "userId": "17201995814344921386"
     }
    }
   },
   "outputs": [
    {
     "name": "stdout",
     "output_type": "stream",
     "text": [
      "True value:  [False]\n",
      "Predicted value:  [ True]\n"
     ]
    },
    {
     "data": {
      "image/png": "[encoded data removed]",
      "text/plain": [
       "<Figure size 432x288 with 1 Axes>"
      ]
     },
     "metadata": {
      "tags": []
     },
     "output_type": "display_data"
    }
   ],
   "source": [
    "plt.imshow(X_test[246][:,:,-1], cmap='gray')\n",
    "print('True value: ', y_pred[246])\n",
    "print('Predicted value: ', y_test[246] > 0.5)"
   ]
  },
  {
   "cell_type": "code",
   "execution_count": 156,
   "metadata": {
    "id": "zk2ZEXCX0jfJ",
    "colab_type": "code",
    "colab": {
     "base_uri": "https://localhost:8080/",
     "height": 35.0
    },
    "outputId": "fcfb77d9-3b75-4e92-e6ba-fdaf694ce92c",
    "executionInfo": {
     "status": "ok",
     "timestamp": 1.591535818285E12,
     "user_tz": -180.0,
     "elapsed": 931.0,
     "user": {
      "displayName": "Ioana Chelaru",
      "photoUrl": "",
      "userId": "17201995814344921386"
     }
    }
   },
   "outputs": [
    {
     "name": "stdout",
     "output_type": "stream",
     "text": [
      "[185, 1347, 2077, 2833]\n"
     ]
    }
   ],
   "source": [
    "# Visualize the data that was missclassified from all data\n",
    "\n",
    "i=0\n",
    "imgs_fail=[]\n",
    "while i < len(y_pred_all):\n",
    "  if y_pred_all[i][0] is not (tgs[i][0] > 0.5):\n",
    "     imgs_fail.append(i)\n",
    "  i=i+1\n",
    "\n",
    "print(imgs_fail)"
   ]
  },
  {
   "cell_type": "code",
   "execution_count": 133,
   "metadata": {
    "id": "b3v553JH46zx",
    "colab_type": "code",
    "colab": {
     "base_uri": "https://localhost:8080/",
     "height": 304.0
    },
    "outputId": "dca8b264-8715-408f-e995-7bc11db212eb",
    "executionInfo": {
     "status": "ok",
     "timestamp": 1.591535429544E12,
     "user_tz": -180.0,
     "elapsed": 946.0,
     "user": {
      "displayName": "Ioana Chelaru",
      "photoUrl": "",
      "userId": "17201995814344921386"
     }
    }
   },
   "outputs": [
    {
     "name": "stdout",
     "output_type": "stream",
     "text": [
      "True value:  [ True]\n",
      "Predicted value:  [False]\n"
     ]
    },
    {
     "data": {
      "image/png": "[encoded data removed]",
      "text/plain": [
       "<Figure size 432x288 with 1 Axes>"
      ]
     },
     "metadata": {
      "tags": []
     },
     "output_type": "display_data"
    }
   ],
   "source": [
    "plt.imshow(imgs[185][:,:,-1], cmap='gray')\n",
    "print('True value: ', y_pred_all[185])\n",
    "print('Predicted value: ', tgs[185] > 0.5)"
   ]
  },
  {
   "cell_type": "code",
   "execution_count": 134,
   "metadata": {
    "id": "Nq4r4EHM4trV",
    "colab_type": "code",
    "colab": {
     "base_uri": "https://localhost:8080/",
     "height": 304.0
    },
    "outputId": "67579b6f-7667-4b6a-cd4f-0a7010b171db",
    "executionInfo": {
     "status": "ok",
     "timestamp": 1.591535432388E12,
     "user_tz": -180.0,
     "elapsed": 965.0,
     "user": {
      "displayName": "Ioana Chelaru",
      "photoUrl": "",
      "userId": "17201995814344921386"
     }
    }
   },
   "outputs": [
    {
     "name": "stdout",
     "output_type": "stream",
     "text": [
      "True value:  [ True]\n",
      "Predicted value:  [False]\n"
     ]
    },
    {
     "data": {
      "image/png": "[encoded data removed]",
      "text/plain": [
       "<Figure size 432x288 with 1 Axes>"
      ]
     },
     "metadata": {
      "tags": []
     },
     "output_type": "display_data"
    }
   ],
   "source": [
    "plt.imshow(imgs[1347][:,:,-1], cmap='gray')\n",
    "print('True value: ', y_pred_all[1347])\n",
    "print('Predicted value: ', tgs[1347] > 0.5)"
   ]
  },
  {
   "cell_type": "code",
   "execution_count": 135,
   "metadata": {
    "id": "49U-ewrA4w7u",
    "colab_type": "code",
    "colab": {
     "base_uri": "https://localhost:8080/",
     "height": 304.0
    },
    "outputId": "3317fe84-8e33-4ec2-f65a-3a098219516b",
    "executionInfo": {
     "status": "ok",
     "timestamp": 1.591535456155E12,
     "user_tz": -180.0,
     "elapsed": 1189.0,
     "user": {
      "displayName": "Ioana Chelaru",
      "photoUrl": "",
      "userId": "17201995814344921386"
     }
    }
   },
   "outputs": [
    {
     "name": "stdout",
     "output_type": "stream",
     "text": [
      "True value:  [False]\n",
      "Predicted value:  [ True]\n"
     ]
    },
    {
     "data": {
      "image/png": "[encoded data removed]",
      "text/plain": [
       "<Figure size 432x288 with 1 Axes>"
      ]
     },
     "metadata": {
      "tags": []
     },
     "output_type": "display_data"
    }
   ],
   "source": [
    "plt.imshow(imgs[2077][:,:,-1], cmap='gray')\n",
    "print('True value: ', y_pred_all[2077])\n",
    "print('Predicted value: ', tgs[2077] > 0.5)"
   ]
  },
  {
   "cell_type": "code",
   "execution_count": 136,
   "metadata": {
    "id": "EhnxOTkB4ysK",
    "colab_type": "code",
    "colab": {
     "base_uri": "https://localhost:8080/",
     "height": 304.0
    },
    "outputId": "56ea82f5-665d-4338-9ba9-b383feb51f2d",
    "executionInfo": {
     "status": "ok",
     "timestamp": 1.591535476749E12,
     "user_tz": -180.0,
     "elapsed": 955.0,
     "user": {
      "displayName": "Ioana Chelaru",
      "photoUrl": "",
      "userId": "17201995814344921386"
     }
    }
   },
   "outputs": [
    {
     "name": "stdout",
     "output_type": "stream",
     "text": [
      "True value:  [False]\n",
      "Predicted value:  [ True]\n"
     ]
    },
    {
     "data": {
      "image/png": "[encoded data removed]",
      "text/plain": [
       "<Figure size 432x288 with 1 Axes>"
      ]
     },
     "metadata": {
      "tags": []
     },
     "output_type": "display_data"
    }
   ],
   "source": [
    "plt.imshow(imgs[2833][:,:,-1], cmap='gray')\n",
    "print('True value: ', y_pred_all[2833])\n",
    "print('Predicted value: ', tgs[2833] > 0.5)"
   ]
  },
  {
   "cell_type": "markdown",
   "metadata": {
    "id": "tV97M2x4zz7p",
    "colab_type": "text"
   },
   "source": [
    "#STEP #13 - Perform cross-validation"
   ]
  },
  {
   "cell_type": "code",
   "execution_count": 0,
   "metadata": {
    "id": "wHIz6ti8nQWb",
    "colab_type": "code",
    "colab": {}
   },
   "outputs": [],
   "source": [
    "def build_model():\n",
    "\n",
    "    # dimensions of the photos\n",
    "    height = 26\n",
    "    width = 34\n",
    "    dims = 1\n",
    "\n",
    "    loss_function = 'binary_crossentropy'\n",
    "    learning_rate = 0.001\n",
    "\n",
    "    model = Sequential()\n",
    "\n",
    "    # first layer of convolution\n",
    "    model.add(Conv2D(32, kernel_size=(3,3), padding = 'same', activation='relu', input_shape=(height, width, dims)))\n",
    "    model.add(MaxPooling2D(pool_size=(2, 2)))\n",
    "\n",
    "    # second layer of convolution\n",
    "    model.add(Conv2D(64, kernel_size=(3,3), padding= 'same', activation='relu'))\n",
    "    model.add(MaxPooling2D(pool_size=(2, 2)))\n",
    "\n",
    "    # third layer of convolution\n",
    "    model.add(Conv2D(128, kernel_size=(3,3), padding='same', activation='relu'))\n",
    "    model.add(MaxPooling2D(pool_size=(2, 2)))\n",
    "\n",
    "    # drops some neurons along with their weights to avoid overfitting\n",
    "    model.add(Dropout(0.25))\n",
    "\n",
    "    model.add(Flatten())\n",
    "\n",
    "    # first dense layer\n",
    "    model.add(Dense(512))\n",
    "    model.add(Activation('relu'))\n",
    "\n",
    "    # second dense layer\n",
    "    model.add(Dense(512))\n",
    "    model.add(Activation('relu'))\n",
    "\n",
    "    # output layer\n",
    "    model.add(Dense(1))\n",
    "    model.add(Activation('sigmoid'))\n",
    "\n",
    "    model.compile(optimizer = Adam(lr = learning_rate), loss = loss_function, metrics = ['accuracy'])\n",
    "\n",
    "    return model"
   ]
  },
  {
   "cell_type": "code",
   "execution_count": 75,
   "metadata": {
    "id": "oLN9qoiVvKPx",
    "colab_type": "code",
    "colab": {
     "base_uri": "https://localhost:8080/",
     "height": 1000.0
    },
    "outputId": "8b8d22e5-a677-4591-88ec-efb3678ff8d2",
    "executionInfo": {
     "status": "ok",
     "timestamp": 1.591700446038E12,
     "user_tz": -180.0,
     "elapsed": 13076.0,
     "user": {
      "displayName": "Ioana Chelaru",
      "photoUrl": "",
      "userId": "17201995814344921386"
     }
    }
   },
   "outputs": [
    {
     "name": "stdout",
     "output_type": "stream",
     "text": [
      "81/81 [==============================] - 1s 9ms/step - loss: 0.2531 - accuracy: 0.8929\n",
      "9/9 [==============================] - 0s 3ms/step - loss: 0.0375 - accuracy: 0.9861\n"
     ]
    },
    {
     "data": {
      "image/png": "[encoded data removed]",
      "text/plain": [
       "<Figure size 576x576 with 2 Axes>"
      ]
     },
     "metadata": {
      "tags": [],
      "needs_background": "light"
     },
     "output_type": "display_data"
    },
    {
     "name": "stdout",
     "output_type": "stream",
     "text": [
      "81/81 [==============================] - 1s 8ms/step - loss: 0.0663 - accuracy: 0.9753\n",
      "9/9 [==============================] - 0s 3ms/step - loss: 0.0473 - accuracy: 0.9826\n"
     ]
    },
    {
     "data": {
      "image/png": "[encoded data removed]",
      "text/plain": [
       "<Figure size 576x576 with 2 Axes>"
      ]
     },
     "metadata": {
      "tags": [],
      "needs_background": "light"
     },
     "output_type": "display_data"
    },
    {
     "name": "stdout",
     "output_type": "stream",
     "text": [
      "81/81 [==============================] - 1s 8ms/step - loss: 0.0402 - accuracy: 0.9880\n",
      "9/9 [==============================] - 0s 4ms/step - loss: 0.0138 - accuracy: 0.9965\n"
     ]
    },
    {
     "data": {
      "image/png": "[encoded data removed]",
      "text/plain": [
       "<Figure size 576x576 with 2 Axes>"
      ]
     },
     "metadata": {
      "tags": [],
      "needs_background": "light"
     },
     "output_type": "display_data"
    },
    {
     "name": "stdout",
     "output_type": "stream",
     "text": [
      "81/81 [==============================] - 1s 8ms/step - loss: 0.0275 - accuracy: 0.9930\n",
      "9/9 [==============================] - 0s 3ms/step - loss: 0.0097 - accuracy: 1.0000\n"
     ]
    },
    {
     "data": {
      "image/png": "[encoded data removed]",
      "text/plain": [
       "<Figure size 576x576 with 2 Axes>"
      ]
     },
     "metadata": {
      "tags": [],
      "needs_background": "light"
     },
     "output_type": "display_data"
    },
    {
     "name": "stdout",
     "output_type": "stream",
     "text": [
      "81/81 [==============================] - 1s 8ms/step - loss: 0.0245 - accuracy: 0.9915\n",
      "9/9 [==============================] - 0s 4ms/step - loss: 0.0188 - accuracy: 0.9965\n"
     ]
    },
    {
     "data": {
      "image/png": "[encoded data removed]",
      "text/plain": [
       "<Figure size 576x576 with 2 Axes>"
      ]
     },
     "metadata": {
      "tags": [],
      "needs_background": "light"
     },
     "output_type": "display_data"
    },
    {
     "name": "stdout",
     "output_type": "stream",
     "text": [
      "81/81 [==============================] - 1s 8ms/step - loss: 0.0334 - accuracy: 0.9899\n",
      "9/9 [==============================] - 0s 4ms/step - loss: 0.0075 - accuracy: 0.9965\n"
     ]
    },
    {
     "data": {
      "image/png": "[encoded data removed]",
      "text/plain": [
       "<Figure size 576x576 with 2 Axes>"
      ]
     },
     "metadata": {
      "tags": [],
      "needs_background": "light"
     },
     "output_type": "display_data"
    },
    {
     "name": "stdout",
     "output_type": "stream",
     "text": [
      "81/81 [==============================] - 1s 8ms/step - loss: 0.0240 - accuracy: 0.9938\n",
      "9/9 [==============================] - 0s 4ms/step - loss: 0.0295 - accuracy: 0.9965\n"
     ]
    },
    {
     "data": {
      "image/png": "[encoded data removed]",
      "text/plain": [
       "<Figure size 576x576 with 2 Axes>"
      ]
     },
     "metadata": {
      "tags": [],
      "needs_background": "light"
     },
     "output_type": "display_data"
    },
    {
     "name": "stdout",
     "output_type": "stream",
     "text": [
      "81/81 [==============================] - 1s 8ms/step - loss: 0.0155 - accuracy: 0.9946\n",
      "9/9 [==============================] - 0s 4ms/step - loss: 0.0290 - accuracy: 0.9861\n"
     ]
    },
    {
     "data": {
      "image/png": "[encoded data removed]",
      "text/plain": [
       "<Figure size 576x576 with 2 Axes>"
      ]
     },
     "metadata": {
      "tags": [],
      "needs_background": "light"
     },
     "output_type": "display_data"
    },
    {
     "name": "stdout",
     "output_type": "stream",
     "text": [
      "81/81 [==============================] - 1s 8ms/step - loss: 0.0054 - accuracy: 0.9992\n",
      "9/9 [==============================] - 0s 4ms/step - loss: 0.0016 - accuracy: 1.0000\n"
     ]
    },
    {
     "data": {
      "image/png": "[encoded data removed]",
      "text/plain": [
       "<Figure size 576x576 with 2 Axes>"
      ]
     },
     "metadata": {
      "tags": [],
      "needs_background": "light"
     },
     "output_type": "display_data"
    },
    {
     "name": "stdout",
     "output_type": "stream",
     "text": [
      "81/81 [==============================] - 1s 8ms/step - loss: 0.0112 - accuracy: 0.9961\n",
      "9/9 [==============================] - 0s 4ms/step - loss: 0.0258 - accuracy: 0.9861\n"
     ]
    },
    {
     "data": {
      "image/png": "[encoded data removed]",
      "text/plain": [
       "<Figure size 576x576 with 2 Axes>"
      ]
     },
     "metadata": {
      "tags": [],
      "needs_background": "light"
     },
     "output_type": "display_data"
    },
    {
     "name": "stdout",
     "output_type": "stream",
     "text": [
      "[0.9861111044883728, 0.9826388955116272, 0.9965277910232544, 1.0, 0.996515691280365, 0.996515691280365, 0.996515691280365, 0.9860627055168152, 1.0, 0.9860627055168152]\n"
     ]
    }
   ],
   "source": [
    "from sklearn.model_selection import KFold\n",
    "from sklearn.metrics import accuracy_score\n",
    "\n",
    "model = build_model()\n",
    "\n",
    "# KFold Cross Validation approach\n",
    "kf = KFold(n_splits=10, shuffle=False)\n",
    "kf.split(imgs)    \n",
    "     \n",
    "# Initialize the accuracy and loss of the models to blank lists\n",
    "accuracy = []\n",
    "loss = []\n",
    "\n",
    "# Initialize empty overall confusion matrix\n",
    "overall_conf_matrix = np.matrix([[0,0],[0,0]])\n",
    "\n",
    "# Initialize images vector for missclassified data\n",
    "miss_imgs = []\n",
    " \n",
    "# Iterate over each train-test split\n",
    "for train_index, test_index in kf.split(imgs):\n",
    "    \n",
    "    # Split train-test\n",
    "    X_train, X_test = imgs[train_index], imgs[test_index]\n",
    "    y_train, y_test = tgs[train_index], tgs[test_index]\n",
    "    \n",
    "    # Train the model\n",
    "    model.fit(X_train, y_train)\n",
    "    \n",
    "    # Append to accuracy_model the accuracy of the model\n",
    "    lss, acc = model.evaluate(X_test, y_test, batch_size = BATCH_SIZE, verbose = 1)\n",
    "    accuracy.append(acc)\n",
    "    loss.append(lss)\n",
    "\n",
    "    # make prediction over test data\n",
    "    y_pred = model.predict(X_test)\n",
    "\n",
    "    # transform y_pred using threshold\n",
    "    y_pred = (y_pred > 0.5)\n",
    "\n",
    "    # Visualize the data that was missclassified from all data\n",
    "    i=0\n",
    "    while i < len(y_pred):\n",
    "      if y_pred[i][0] is not (y_test[i][0] > 0.5):\n",
    "        miss_imgs.append(X_test[i])\n",
    "      i=i+1\n",
    "\n",
    "    # Build and print confusion matrix\n",
    "    conf_matrix = confusion_matrix(y_test, y_pred)\n",
    "    figure = plt.figure(figsize=(8, 8))\n",
    "    sns.heatmap(conf_matrix, annot = True, cmap = plt.cm.Blues, fmt = \"d\")\n",
    "    plt.ylabel('True label')\n",
    "    plt.xlabel('Predicted label')\n",
    "    plt.show() \n",
    "\n",
    "    # Add current confision matrix to the overall confusion matrix\n",
    "    overall_conf_matrix = overall_conf_matrix + conf_matrix"
   ]
  },
  {
   "cell_type": "code",
   "execution_count": 76,
   "metadata": {
    "id": "HUhiJeHAodep",
    "colab_type": "code",
    "colab": {
     "base_uri": "https://localhost:8080/",
     "height": 497.0
    },
    "outputId": "1a64a70d-c36c-4e42-fb41-eccbd837ef3e",
    "executionInfo": {
     "status": "ok",
     "timestamp": 1.591700446297E12,
     "user_tz": -180.0,
     "elapsed": 11136.0,
     "user": {
      "displayName": "Ioana Chelaru",
      "photoUrl": "",
      "userId": "17201995814344921386"
     }
    }
   },
   "outputs": [
    {
     "data": {
      "image/png": "[encoded data removed]",
      "text/plain": [
       "<Figure size 576x576 with 2 Axes>"
      ]
     },
     "metadata": {
      "tags": [],
      "needs_background": "light"
     },
     "output_type": "display_data"
    }
   ],
   "source": [
    "# Print overall confusion matrix\n",
    "\n",
    "figure = plt.figure(figsize=(8, 8))\n",
    "sns.heatmap(overall_conf_matrix, annot = True, cmap = plt.cm.Blues, fmt = \"d\")\n",
    "plt.ylabel('True label')\n",
    "plt.xlabel('Predicted label')\n",
    "plt.show() "
   ]
  },
  {
   "cell_type": "code",
   "execution_count": 77,
   "metadata": {
    "id": "JL7N1HiYrqKE",
    "colab_type": "code",
    "colab": {
     "base_uri": "https://localhost:8080/",
     "height": 465.0
    },
    "outputId": "973100ba-9699-40e3-8120-48530822c884",
    "executionInfo": {
     "status": "ok",
     "timestamp": 1.591700457042E12,
     "user_tz": -180.0,
     "elapsed": 3024.0,
     "user": {
      "displayName": "Ioana Chelaru",
      "photoUrl": "",
      "userId": "17201995814344921386"
     }
    }
   },
   "outputs": [
    {
     "data": {
      "image/png": "[encoded data removed]",
      "text/plain": [
       "<Figure size 576x576 with 16 Axes>"
      ]
     },
     "metadata": {
      "tags": [],
      "needs_background": "light"
     },
     "output_type": "display_data"
    }
   ],
   "source": [
    "j = 0\n",
    "fig=plt.figure(figsize=(8, 8))\n",
    "columns = 4\n",
    "rows = 4\n",
    "for i in range(1, columns*rows +1):\n",
    "    fig.add_subplot(rows, columns, i)\n",
    "    plt.imshow(miss_imgs[j][:,:,-1], cmap='gray')\n",
    "    j=j+1\n",
    "plt.show()"
   ]
  },
  {
   "cell_type": "code",
   "execution_count": 78,
   "metadata": {
    "id": "dg6vHqWzvQtJ",
    "colab_type": "code",
    "colab": {
     "base_uri": "https://localhost:8080/",
     "height": 72.0
    },
    "outputId": "8d2592ea-3304-430d-dbc4-8efd569d9442",
    "executionInfo": {
     "status": "ok",
     "timestamp": 1.591700461571E12,
     "user_tz": -180.0,
     "elapsed": 1249.0,
     "user": {
      "displayName": "Ioana Chelaru",
      "photoUrl": "",
      "userId": "17201995814344921386"
     }
    }
   },
   "outputs": [
    {
     "name": "stdout",
     "output_type": "stream",
     "text": [
      "[0.03749360144138336, 0.04725799337029457, 0.013758134096860886, 0.009679894894361496, 0.01884845644235611, 0.0075218044221401215, 0.02952371910214424, 0.02902301773428917, 0.0016121178632602096, 0.025766467675566673]\n",
      "[0.9861111044883728, 0.9826388955116272, 0.9965277910232544, 1.0, 0.996515691280365, 0.996515691280365, 0.996515691280365, 0.9860627055168152, 1.0, 0.9860627055168152]\n"
     ]
    }
   ],
   "source": [
    "print(loss)\n",
    "print(accuracy)"
   ]
  },
  {
   "cell_type": "code",
   "execution_count": 79,
   "metadata": {
    "id": "OiTNpBTZvTw6",
    "colab_type": "code",
    "colab": {
     "base_uri": "https://localhost:8080/",
     "height": 542.0
    },
    "outputId": "32722c85-6766-42e6-ec3d-dfc5477d535d",
    "executionInfo": {
     "status": "ok",
     "timestamp": 1.591700466165E12,
     "user_tz": -180.0,
     "elapsed": 821.0,
     "user": {
      "displayName": "Ioana Chelaru",
      "photoUrl": "",
      "userId": "17201995814344921386"
     }
    }
   },
   "outputs": [
    {
     "data": {
      "text/html": [
       "<html>\n",
       "<head><meta charset=\"utf-8\" /></head>\n",
       "<body>\n",
       "    <div>\n",
       "            <script src=\"https://cdnjs.cloudflare.com/ajax/libs/mathjax/2.7.5/MathJax.js?config=TeX-AMS-MML_SVG\"></script><script type=\"text/javascript\">if (window.MathJax) {MathJax.Hub.Config({SVG: {font: \"STIX-Web\"}});}</script>\n",
       "                <script type=\"text/javascript\">window.PlotlyConfig = {MathJaxConfig: 'local'};</script>\n",
       "        <script src=\"https://cdn.plot.ly/plotly-latest.min.js\"></script>    \n",
       "            <div id=\"585aac36-6604-489a-ac98-d7bc12b59241\" class=\"plotly-graph-div\" style=\"height:525px; width:100%;\"></div>\n",
       "            <script type=\"text/javascript\">\n",
       "                \n",
       "                    window.PLOTLYENV=window.PLOTLYENV || {};\n",
       "                    \n",
       "                if (document.getElementById(\"585aac36-6604-489a-ac98-d7bc12b59241\")) {\n",
       "                    Plotly.newPlot(\n",
       "                        '585aac36-6604-489a-ac98-d7bc12b59241',\n",
       "                        [{\"name\": \"Accuracy\", \"type\": \"bar\", \"x\": [\"Iter1\", \"Iter2\", \"Iter3\", \"Iter4\", \"Iter5\", \"Iter6\", \"Iter7\", \"Iter8\", \"Iter9\", \"Iter10\"], \"y\": [0.9861111044883728, 0.9826388955116272, 0.9965277910232544, 1.0, 0.996515691280365, 0.996515691280365, 0.996515691280365, 0.9860627055168152, 1.0, 0.9860627055168152]}, {\"name\": \"Loss\", \"type\": \"bar\", \"x\": [\"Iter1\", \"Iter2\", \"Iter3\", \"Iter4\", \"Iter5\", \"Iter6\", \"Iter7\", \"Iter8\", \"Iter9\", \"Iter10\"], \"y\": [0.03749360144138336, 0.04725799337029457, 0.013758134096860886, 0.009679894894361496, 0.01884845644235611, 0.0075218044221401215, 0.02952371910214424, 0.02902301773428917, 0.0016121178632602096, 0.025766467675566673]}],\n",
       "                        {\"barmode\": \"group\", \"template\": {\"data\": {\"bar\": [{\"error_x\": {\"color\": \"#2a3f5f\"}, \"error_y\": {\"color\": \"#2a3f5f\"}, \"marker\": {\"line\": {\"color\": \"#E5ECF6\", \"width\": 0.5}}, \"type\": \"bar\"}], \"barpolar\": [{\"marker\": {\"line\": {\"color\": \"#E5ECF6\", \"width\": 0.5}}, \"type\": \"barpolar\"}], \"carpet\": [{\"aaxis\": {\"endlinecolor\": \"#2a3f5f\", \"gridcolor\": \"white\", \"linecolor\": \"white\", \"minorgridcolor\": \"white\", \"startlinecolor\": \"#2a3f5f\"}, \"baxis\": {\"endlinecolor\": \"#2a3f5f\", \"gridcolor\": \"white\", \"linecolor\": \"white\", \"minorgridcolor\": \"white\", \"startlinecolor\": \"#2a3f5f\"}, \"type\": \"carpet\"}], \"choropleth\": [{\"colorbar\": {\"outlinewidth\": 0, \"ticks\": \"\"}, \"type\": \"choropleth\"}], \"contour\": [{\"colorbar\": {\"outlinewidth\": 0, \"ticks\": \"\"}, \"colorscale\": [[0.0, \"#0d0887\"], [0.1111111111111111, \"#46039f\"], [0.2222222222222222, \"#7201a8\"], [0.3333333333333333, \"#9c179e\"], [0.4444444444444444, \"#bd3786\"], [0.5555555555555556, \"#d8576b\"], [0.6666666666666666, \"#ed7953\"], [0.7777777777777778, \"#fb9f3a\"], [0.8888888888888888, \"#fdca26\"], [1.0, \"#f0f921\"]], \"type\": \"contour\"}], \"contourcarpet\": [{\"colorbar\": {\"outlinewidth\": 0, \"ticks\": \"\"}, \"type\": \"contourcarpet\"}], \"heatmap\": [{\"colorbar\": {\"outlinewidth\": 0, \"ticks\": \"\"}, \"colorscale\": [[0.0, \"#0d0887\"], [0.1111111111111111, \"#46039f\"], [0.2222222222222222, \"#7201a8\"], [0.3333333333333333, \"#9c179e\"], [0.4444444444444444, \"#bd3786\"], [0.5555555555555556, \"#d8576b\"], [0.6666666666666666, \"#ed7953\"], [0.7777777777777778, \"#fb9f3a\"], [0.8888888888888888, \"#fdca26\"], [1.0, \"#f0f921\"]], \"type\": \"heatmap\"}], \"heatmapgl\": [{\"colorbar\": {\"outlinewidth\": 0, \"ticks\": \"\"}, \"colorscale\": [[0.0, \"#0d0887\"], [0.1111111111111111, \"#46039f\"], [0.2222222222222222, \"#7201a8\"], [0.3333333333333333, \"#9c179e\"], [0.4444444444444444, \"#bd3786\"], [0.5555555555555556, \"#d8576b\"], [0.6666666666666666, \"#ed7953\"], [0.7777777777777778, \"#fb9f3a\"], [0.8888888888888888, \"#fdca26\"], [1.0, \"#f0f921\"]], \"type\": \"heatmapgl\"}], \"histogram\": [{\"marker\": {\"colorbar\": {\"outlinewidth\": 0, \"ticks\": \"\"}}, \"type\": \"histogram\"}], \"histogram2d\": [{\"colorbar\": {\"outlinewidth\": 0, \"ticks\": \"\"}, \"colorscale\": [[0.0, \"#0d0887\"], [0.1111111111111111, \"#46039f\"], [0.2222222222222222, \"#7201a8\"], [0.3333333333333333, \"#9c179e\"], [0.4444444444444444, \"#bd3786\"], [0.5555555555555556, \"#d8576b\"], [0.6666666666666666, \"#ed7953\"], [0.7777777777777778, \"#fb9f3a\"], [0.8888888888888888, \"#fdca26\"], [1.0, \"#f0f921\"]], \"type\": \"histogram2d\"}], \"histogram2dcontour\": [{\"colorbar\": {\"outlinewidth\": 0, \"ticks\": \"\"}, \"colorscale\": [[0.0, \"#0d0887\"], [0.1111111111111111, \"#46039f\"], [0.2222222222222222, \"#7201a8\"], [0.3333333333333333, \"#9c179e\"], [0.4444444444444444, \"#bd3786\"], [0.5555555555555556, \"#d8576b\"], [0.6666666666666666, \"#ed7953\"], [0.7777777777777778, \"#fb9f3a\"], [0.8888888888888888, \"#fdca26\"], [1.0, \"#f0f921\"]], \"type\": \"histogram2dcontour\"}], \"mesh3d\": [{\"colorbar\": {\"outlinewidth\": 0, \"ticks\": \"\"}, \"type\": \"mesh3d\"}], \"parcoords\": [{\"line\": {\"colorbar\": {\"outlinewidth\": 0, \"ticks\": \"\"}}, \"type\": \"parcoords\"}], \"pie\": [{\"automargin\": true, \"type\": \"pie\"}], \"scatter\": [{\"marker\": {\"colorbar\": {\"outlinewidth\": 0, \"ticks\": \"\"}}, \"type\": \"scatter\"}], \"scatter3d\": [{\"line\": {\"colorbar\": {\"outlinewidth\": 0, \"ticks\": \"\"}}, \"marker\": {\"colorbar\": {\"outlinewidth\": 0, \"ticks\": \"\"}}, \"type\": \"scatter3d\"}], \"scattercarpet\": [{\"marker\": {\"colorbar\": {\"outlinewidth\": 0, \"ticks\": \"\"}}, \"type\": \"scattercarpet\"}], \"scattergeo\": [{\"marker\": {\"colorbar\": {\"outlinewidth\": 0, \"ticks\": \"\"}}, \"type\": \"scattergeo\"}], \"scattergl\": [{\"marker\": {\"colorbar\": {\"outlinewidth\": 0, \"ticks\": \"\"}}, \"type\": \"scattergl\"}], \"scattermapbox\": [{\"marker\": {\"colorbar\": {\"outlinewidth\": 0, \"ticks\": \"\"}}, \"type\": \"scattermapbox\"}], \"scatterpolar\": [{\"marker\": {\"colorbar\": {\"outlinewidth\": 0, \"ticks\": \"\"}}, \"type\": \"scatterpolar\"}], \"scatterpolargl\": [{\"marker\": {\"colorbar\": {\"outlinewidth\": 0, \"ticks\": \"\"}}, \"type\": \"scatterpolargl\"}], \"scatterternary\": [{\"marker\": {\"colorbar\": {\"outlinewidth\": 0, \"ticks\": \"\"}}, \"type\": \"scatterternary\"}], \"surface\": [{\"colorbar\": {\"outlinewidth\": 0, \"ticks\": \"\"}, \"colorscale\": [[0.0, \"#0d0887\"], [0.1111111111111111, \"#46039f\"], [0.2222222222222222, \"#7201a8\"], [0.3333333333333333, \"#9c179e\"], [0.4444444444444444, \"#bd3786\"], [0.5555555555555556, \"#d8576b\"], [0.6666666666666666, \"#ed7953\"], [0.7777777777777778, \"#fb9f3a\"], [0.8888888888888888, \"#fdca26\"], [1.0, \"#f0f921\"]], \"type\": \"surface\"}], \"table\": [{\"cells\": {\"fill\": {\"color\": \"#EBF0F8\"}, \"line\": {\"color\": \"white\"}}, \"header\": {\"fill\": {\"color\": \"#C8D4E3\"}, \"line\": {\"color\": \"white\"}}, \"type\": \"table\"}]}, \"layout\": {\"annotationdefaults\": {\"arrowcolor\": \"#2a3f5f\", \"arrowhead\": 0, \"arrowwidth\": 1}, \"coloraxis\": {\"colorbar\": {\"outlinewidth\": 0, \"ticks\": \"\"}}, \"colorscale\": {\"diverging\": [[0, \"#8e0152\"], [0.1, \"#c51b7d\"], [0.2, \"#de77ae\"], [0.3, \"#f1b6da\"], [0.4, \"#fde0ef\"], [0.5, \"#f7f7f7\"], [0.6, \"#e6f5d0\"], [0.7, \"#b8e186\"], [0.8, \"#7fbc41\"], [0.9, \"#4d9221\"], [1, \"#276419\"]], \"sequential\": [[0.0, \"#0d0887\"], [0.1111111111111111, \"#46039f\"], [0.2222222222222222, \"#7201a8\"], [0.3333333333333333, \"#9c179e\"], [0.4444444444444444, \"#bd3786\"], [0.5555555555555556, \"#d8576b\"], [0.6666666666666666, \"#ed7953\"], [0.7777777777777778, \"#fb9f3a\"], [0.8888888888888888, \"#fdca26\"], [1.0, \"#f0f921\"]], \"sequentialminus\": [[0.0, \"#0d0887\"], [0.1111111111111111, \"#46039f\"], [0.2222222222222222, \"#7201a8\"], [0.3333333333333333, \"#9c179e\"], [0.4444444444444444, \"#bd3786\"], [0.5555555555555556, \"#d8576b\"], [0.6666666666666666, \"#ed7953\"], [0.7777777777777778, \"#fb9f3a\"], [0.8888888888888888, \"#fdca26\"], [1.0, \"#f0f921\"]]}, \"colorway\": [\"#636efa\", \"#EF553B\", \"#00cc96\", \"#ab63fa\", \"#FFA15A\", \"#19d3f3\", \"#FF6692\", \"#B6E880\", \"#FF97FF\", \"#FECB52\"], \"font\": {\"color\": \"#2a3f5f\"}, \"geo\": {\"bgcolor\": \"white\", \"lakecolor\": \"white\", \"landcolor\": \"#E5ECF6\", \"showlakes\": true, \"showland\": true, \"subunitcolor\": \"white\"}, \"hoverlabel\": {\"align\": \"left\"}, \"hovermode\": \"closest\", \"mapbox\": {\"style\": \"light\"}, \"paper_bgcolor\": \"white\", \"plot_bgcolor\": \"#E5ECF6\", \"polar\": {\"angularaxis\": {\"gridcolor\": \"white\", \"linecolor\": \"white\", \"ticks\": \"\"}, \"bgcolor\": \"#E5ECF6\", \"radialaxis\": {\"gridcolor\": \"white\", \"linecolor\": \"white\", \"ticks\": \"\"}}, \"scene\": {\"xaxis\": {\"backgroundcolor\": \"#E5ECF6\", \"gridcolor\": \"white\", \"gridwidth\": 2, \"linecolor\": \"white\", \"showbackground\": true, \"ticks\": \"\", \"zerolinecolor\": \"white\"}, \"yaxis\": {\"backgroundcolor\": \"#E5ECF6\", \"gridcolor\": \"white\", \"gridwidth\": 2, \"linecolor\": \"white\", \"showbackground\": true, \"ticks\": \"\", \"zerolinecolor\": \"white\"}, \"zaxis\": {\"backgroundcolor\": \"#E5ECF6\", \"gridcolor\": \"white\", \"gridwidth\": 2, \"linecolor\": \"white\", \"showbackground\": true, \"ticks\": \"\", \"zerolinecolor\": \"white\"}}, \"shapedefaults\": {\"line\": {\"color\": \"#2a3f5f\"}}, \"ternary\": {\"aaxis\": {\"gridcolor\": \"white\", \"linecolor\": \"white\", \"ticks\": \"\"}, \"baxis\": {\"gridcolor\": \"white\", \"linecolor\": \"white\", \"ticks\": \"\"}, \"bgcolor\": \"#E5ECF6\", \"caxis\": {\"gridcolor\": \"white\", \"linecolor\": \"white\", \"ticks\": \"\"}}, \"title\": {\"x\": 0.05}, \"xaxis\": {\"automargin\": true, \"gridcolor\": \"white\", \"linecolor\": \"white\", \"ticks\": \"\", \"title\": {\"standoff\": 15}, \"zerolinecolor\": \"white\", \"zerolinewidth\": 2}, \"yaxis\": {\"automargin\": true, \"gridcolor\": \"white\", \"linecolor\": \"white\", \"ticks\": \"\", \"title\": {\"standoff\": 15}, \"zerolinecolor\": \"white\", \"zerolinewidth\": 2}}}},\n",
       "                        {\"responsive\": true}\n",
       "                    ).then(function(){\n",
       "                            \n",
       "var gd = document.getElementById('585aac36-6604-489a-ac98-d7bc12b59241');\n",
       "var x = new MutationObserver(function (mutations, observer) {{\n",
       "        var display = window.getComputedStyle(gd).display;\n",
       "        if (!display || display === 'none') {{\n",
       "            console.log([gd, 'removed!']);\n",
       "            Plotly.purge(gd);\n",
       "            observer.disconnect();\n",
       "        }}\n",
       "}});\n",
       "\n",
       "// Listen for the removal of the full notebook cells\n",
       "var notebookContainer = gd.closest('#notebook-container');\n",
       "if (notebookContainer) {{\n",
       "    x.observe(notebookContainer, {childList: true});\n",
       "}}\n",
       "\n",
       "// Listen for the clearing of the current output cell\n",
       "var outputEl = gd.closest('.output');\n",
       "if (outputEl) {{\n",
       "    x.observe(outputEl, {childList: true});\n",
       "}}\n",
       "\n",
       "                        })\n",
       "                };\n",
       "                \n",
       "            </script>\n",
       "        </div>\n",
       "</body>\n",
       "</html>"
      ]
     },
     "metadata": {
      "tags": []
     },
     "output_type": "execute_result"
    }
   ],
   "source": [
    "# Visualize accuracy and loss for each iteration\n",
    "\n",
    "import plotly.graph_objects as go\n",
    "labels = ['Iter1','Iter2','Iter3','Iter4','Iter5','Iter6','Iter7','Iter8','Iter9','Iter10']\n",
    "\n",
    "fig = go.Figure(data=[\n",
    "    go.Bar(name='Accuracy', x=labels, y=accuracy),\n",
    "    go.Bar(name='Loss', x=labels, y=loss)\n",
    "])\n",
    "# Change the bar mode\n",
    "fig.update_layout(barmode='group')\n",
    "fig.show()"
   ]
  },
  {
   "cell_type": "code",
   "execution_count": 80,
   "metadata": {
    "id": "1zOHAECcvVlH",
    "colab_type": "code",
    "colab": {
     "base_uri": "https://localhost:8080/",
     "height": 542.0
    },
    "outputId": "2ace2a23-83a4-4aae-accd-125d6eb4bbfe",
    "executionInfo": {
     "status": "ok",
     "timestamp": 1.591700481006E12,
     "user_tz": -180.0,
     "elapsed": 723.0,
     "user": {
      "displayName": "Ioana Chelaru",
      "photoUrl": "",
      "userId": "17201995814344921386"
     }
    }
   },
   "outputs": [
    {
     "data": {
      "text/html": [
       "<html>\n",
       "<head><meta charset=\"utf-8\" /></head>\n",
       "<body>\n",
       "    <div>\n",
       "            <script src=\"https://cdnjs.cloudflare.com/ajax/libs/mathjax/2.7.5/MathJax.js?config=TeX-AMS-MML_SVG\"></script><script type=\"text/javascript\">if (window.MathJax) {MathJax.Hub.Config({SVG: {font: \"STIX-Web\"}});}</script>\n",
       "                <script type=\"text/javascript\">window.PlotlyConfig = {MathJaxConfig: 'local'};</script>\n",
       "        <script src=\"https://cdn.plot.ly/plotly-latest.min.js\"></script>    \n",
       "            <div id=\"d395b240-801d-4c4b-9b74-27a7d7f77ca9\" class=\"plotly-graph-div\" style=\"height:525px; width:100%;\"></div>\n",
       "            <script type=\"text/javascript\">\n",
       "                \n",
       "                    window.PLOTLYENV=window.PLOTLYENV || {};\n",
       "                    \n",
       "                if (document.getElementById(\"d395b240-801d-4c4b-9b74-27a7d7f77ca9\")) {\n",
       "                    Plotly.newPlot(\n",
       "                        'd395b240-801d-4c4b-9b74-27a7d7f77ca9',\n",
       "                        [{\"type\": \"scatter\", \"x\": [\"Iter1\", \"Iter2\", \"Iter3\", \"Iter4\", \"Iter5\", \"Iter6\", \"Iter7\", \"Iter8\", \"Iter9\", \"Iter10\"], \"y\": [0.9861111044883728, 0.9826388955116272, 0.9965277910232544, 1.0, 0.996515691280365, 0.996515691280365, 0.996515691280365, 0.9860627055168152, 1.0, 0.9860627055168152]}],\n",
       "                        {\"template\": {\"data\": {\"bar\": [{\"error_x\": {\"color\": \"#2a3f5f\"}, \"error_y\": {\"color\": \"#2a3f5f\"}, \"marker\": {\"line\": {\"color\": \"#E5ECF6\", \"width\": 0.5}}, \"type\": \"bar\"}], \"barpolar\": [{\"marker\": {\"line\": {\"color\": \"#E5ECF6\", \"width\": 0.5}}, \"type\": \"barpolar\"}], \"carpet\": [{\"aaxis\": {\"endlinecolor\": \"#2a3f5f\", \"gridcolor\": \"white\", \"linecolor\": \"white\", \"minorgridcolor\": \"white\", \"startlinecolor\": \"#2a3f5f\"}, \"baxis\": {\"endlinecolor\": \"#2a3f5f\", \"gridcolor\": \"white\", \"linecolor\": \"white\", \"minorgridcolor\": \"white\", \"startlinecolor\": \"#2a3f5f\"}, \"type\": \"carpet\"}], \"choropleth\": [{\"colorbar\": {\"outlinewidth\": 0, \"ticks\": \"\"}, \"type\": \"choropleth\"}], \"contour\": [{\"colorbar\": {\"outlinewidth\": 0, \"ticks\": \"\"}, \"colorscale\": [[0.0, \"#0d0887\"], [0.1111111111111111, \"#46039f\"], [0.2222222222222222, \"#7201a8\"], [0.3333333333333333, \"#9c179e\"], [0.4444444444444444, \"#bd3786\"], [0.5555555555555556, \"#d8576b\"], [0.6666666666666666, \"#ed7953\"], [0.7777777777777778, \"#fb9f3a\"], [0.8888888888888888, \"#fdca26\"], [1.0, \"#f0f921\"]], \"type\": \"contour\"}], \"contourcarpet\": [{\"colorbar\": {\"outlinewidth\": 0, \"ticks\": \"\"}, \"type\": \"contourcarpet\"}], \"heatmap\": [{\"colorbar\": {\"outlinewidth\": 0, \"ticks\": \"\"}, \"colorscale\": [[0.0, \"#0d0887\"], [0.1111111111111111, \"#46039f\"], [0.2222222222222222, \"#7201a8\"], [0.3333333333333333, \"#9c179e\"], [0.4444444444444444, \"#bd3786\"], [0.5555555555555556, \"#d8576b\"], [0.6666666666666666, \"#ed7953\"], [0.7777777777777778, \"#fb9f3a\"], [0.8888888888888888, \"#fdca26\"], [1.0, \"#f0f921\"]], \"type\": \"heatmap\"}], \"heatmapgl\": [{\"colorbar\": {\"outlinewidth\": 0, \"ticks\": \"\"}, \"colorscale\": [[0.0, \"#0d0887\"], [0.1111111111111111, \"#46039f\"], [0.2222222222222222, \"#7201a8\"], [0.3333333333333333, \"#9c179e\"], [0.4444444444444444, \"#bd3786\"], [0.5555555555555556, \"#d8576b\"], [0.6666666666666666, \"#ed7953\"], [0.7777777777777778, \"#fb9f3a\"], [0.8888888888888888, \"#fdca26\"], [1.0, \"#f0f921\"]], \"type\": \"heatmapgl\"}], \"histogram\": [{\"marker\": {\"colorbar\": {\"outlinewidth\": 0, \"ticks\": \"\"}}, \"type\": \"histogram\"}], \"histogram2d\": [{\"colorbar\": {\"outlinewidth\": 0, \"ticks\": \"\"}, \"colorscale\": [[0.0, \"#0d0887\"], [0.1111111111111111, \"#46039f\"], [0.2222222222222222, \"#7201a8\"], [0.3333333333333333, \"#9c179e\"], [0.4444444444444444, \"#bd3786\"], [0.5555555555555556, \"#d8576b\"], [0.6666666666666666, \"#ed7953\"], [0.7777777777777778, \"#fb9f3a\"], [0.8888888888888888, \"#fdca26\"], [1.0, \"#f0f921\"]], \"type\": \"histogram2d\"}], \"histogram2dcontour\": [{\"colorbar\": {\"outlinewidth\": 0, \"ticks\": \"\"}, \"colorscale\": [[0.0, \"#0d0887\"], [0.1111111111111111, \"#46039f\"], [0.2222222222222222, \"#7201a8\"], [0.3333333333333333, \"#9c179e\"], [0.4444444444444444, \"#bd3786\"], [0.5555555555555556, \"#d8576b\"], [0.6666666666666666, \"#ed7953\"], [0.7777777777777778, \"#fb9f3a\"], [0.8888888888888888, \"#fdca26\"], [1.0, \"#f0f921\"]], \"type\": \"histogram2dcontour\"}], \"mesh3d\": [{\"colorbar\": {\"outlinewidth\": 0, \"ticks\": \"\"}, \"type\": \"mesh3d\"}], \"parcoords\": [{\"line\": {\"colorbar\": {\"outlinewidth\": 0, \"ticks\": \"\"}}, \"type\": \"parcoords\"}], \"pie\": [{\"automargin\": true, \"type\": \"pie\"}], \"scatter\": [{\"marker\": {\"colorbar\": {\"outlinewidth\": 0, \"ticks\": \"\"}}, \"type\": \"scatter\"}], \"scatter3d\": [{\"line\": {\"colorbar\": {\"outlinewidth\": 0, \"ticks\": \"\"}}, \"marker\": {\"colorbar\": {\"outlinewidth\": 0, \"ticks\": \"\"}}, \"type\": \"scatter3d\"}], \"scattercarpet\": [{\"marker\": {\"colorbar\": {\"outlinewidth\": 0, \"ticks\": \"\"}}, \"type\": \"scattercarpet\"}], \"scattergeo\": [{\"marker\": {\"colorbar\": {\"outlinewidth\": 0, \"ticks\": \"\"}}, \"type\": \"scattergeo\"}], \"scattergl\": [{\"marker\": {\"colorbar\": {\"outlinewidth\": 0, \"ticks\": \"\"}}, \"type\": \"scattergl\"}], \"scattermapbox\": [{\"marker\": {\"colorbar\": {\"outlinewidth\": 0, \"ticks\": \"\"}}, \"type\": \"scattermapbox\"}], \"scatterpolar\": [{\"marker\": {\"colorbar\": {\"outlinewidth\": 0, \"ticks\": \"\"}}, \"type\": \"scatterpolar\"}], \"scatterpolargl\": [{\"marker\": {\"colorbar\": {\"outlinewidth\": 0, \"ticks\": \"\"}}, \"type\": \"scatterpolargl\"}], \"scatterternary\": [{\"marker\": {\"colorbar\": {\"outlinewidth\": 0, \"ticks\": \"\"}}, \"type\": \"scatterternary\"}], \"surface\": [{\"colorbar\": {\"outlinewidth\": 0, \"ticks\": \"\"}, \"colorscale\": [[0.0, \"#0d0887\"], [0.1111111111111111, \"#46039f\"], [0.2222222222222222, \"#7201a8\"], [0.3333333333333333, \"#9c179e\"], [0.4444444444444444, \"#bd3786\"], [0.5555555555555556, \"#d8576b\"], [0.6666666666666666, \"#ed7953\"], [0.7777777777777778, \"#fb9f3a\"], [0.8888888888888888, \"#fdca26\"], [1.0, \"#f0f921\"]], \"type\": \"surface\"}], \"table\": [{\"cells\": {\"fill\": {\"color\": \"#EBF0F8\"}, \"line\": {\"color\": \"white\"}}, \"header\": {\"fill\": {\"color\": \"#C8D4E3\"}, \"line\": {\"color\": \"white\"}}, \"type\": \"table\"}]}, \"layout\": {\"annotationdefaults\": {\"arrowcolor\": \"#2a3f5f\", \"arrowhead\": 0, \"arrowwidth\": 1}, \"coloraxis\": {\"colorbar\": {\"outlinewidth\": 0, \"ticks\": \"\"}}, \"colorscale\": {\"diverging\": [[0, \"#8e0152\"], [0.1, \"#c51b7d\"], [0.2, \"#de77ae\"], [0.3, \"#f1b6da\"], [0.4, \"#fde0ef\"], [0.5, \"#f7f7f7\"], [0.6, \"#e6f5d0\"], [0.7, \"#b8e186\"], [0.8, \"#7fbc41\"], [0.9, \"#4d9221\"], [1, \"#276419\"]], \"sequential\": [[0.0, \"#0d0887\"], [0.1111111111111111, \"#46039f\"], [0.2222222222222222, \"#7201a8\"], [0.3333333333333333, \"#9c179e\"], [0.4444444444444444, \"#bd3786\"], [0.5555555555555556, \"#d8576b\"], [0.6666666666666666, \"#ed7953\"], [0.7777777777777778, \"#fb9f3a\"], [0.8888888888888888, \"#fdca26\"], [1.0, \"#f0f921\"]], \"sequentialminus\": [[0.0, \"#0d0887\"], [0.1111111111111111, \"#46039f\"], [0.2222222222222222, \"#7201a8\"], [0.3333333333333333, \"#9c179e\"], [0.4444444444444444, \"#bd3786\"], [0.5555555555555556, \"#d8576b\"], [0.6666666666666666, \"#ed7953\"], [0.7777777777777778, \"#fb9f3a\"], [0.8888888888888888, \"#fdca26\"], [1.0, \"#f0f921\"]]}, \"colorway\": [\"#636efa\", \"#EF553B\", \"#00cc96\", \"#ab63fa\", \"#FFA15A\", \"#19d3f3\", \"#FF6692\", \"#B6E880\", \"#FF97FF\", \"#FECB52\"], \"font\": {\"color\": \"#2a3f5f\"}, \"geo\": {\"bgcolor\": \"white\", \"lakecolor\": \"white\", \"landcolor\": \"#E5ECF6\", \"showlakes\": true, \"showland\": true, \"subunitcolor\": \"white\"}, \"hoverlabel\": {\"align\": \"left\"}, \"hovermode\": \"closest\", \"mapbox\": {\"style\": \"light\"}, \"paper_bgcolor\": \"white\", \"plot_bgcolor\": \"#E5ECF6\", \"polar\": {\"angularaxis\": {\"gridcolor\": \"white\", \"linecolor\": \"white\", \"ticks\": \"\"}, \"bgcolor\": \"#E5ECF6\", \"radialaxis\": {\"gridcolor\": \"white\", \"linecolor\": \"white\", \"ticks\": \"\"}}, \"scene\": {\"xaxis\": {\"backgroundcolor\": \"#E5ECF6\", \"gridcolor\": \"white\", \"gridwidth\": 2, \"linecolor\": \"white\", \"showbackground\": true, \"ticks\": \"\", \"zerolinecolor\": \"white\"}, \"yaxis\": {\"backgroundcolor\": \"#E5ECF6\", \"gridcolor\": \"white\", \"gridwidth\": 2, \"linecolor\": \"white\", \"showbackground\": true, \"ticks\": \"\", \"zerolinecolor\": \"white\"}, \"zaxis\": {\"backgroundcolor\": \"#E5ECF6\", \"gridcolor\": \"white\", \"gridwidth\": 2, \"linecolor\": \"white\", \"showbackground\": true, \"ticks\": \"\", \"zerolinecolor\": \"white\"}}, \"shapedefaults\": {\"line\": {\"color\": \"#2a3f5f\"}}, \"ternary\": {\"aaxis\": {\"gridcolor\": \"white\", \"linecolor\": \"white\", \"ticks\": \"\"}, \"baxis\": {\"gridcolor\": \"white\", \"linecolor\": \"white\", \"ticks\": \"\"}, \"bgcolor\": \"#E5ECF6\", \"caxis\": {\"gridcolor\": \"white\", \"linecolor\": \"white\", \"ticks\": \"\"}}, \"title\": {\"x\": 0.05}, \"xaxis\": {\"automargin\": true, \"gridcolor\": \"white\", \"linecolor\": \"white\", \"ticks\": \"\", \"title\": {\"standoff\": 15}, \"zerolinecolor\": \"white\", \"zerolinewidth\": 2}, \"yaxis\": {\"automargin\": true, \"gridcolor\": \"white\", \"linecolor\": \"white\", \"ticks\": \"\", \"title\": {\"standoff\": 15}, \"zerolinecolor\": \"white\", \"zerolinewidth\": 2}}}},\n",
       "                        {\"responsive\": true}\n",
       "                    ).then(function(){\n",
       "                            \n",
       "var gd = document.getElementById('d395b240-801d-4c4b-9b74-27a7d7f77ca9');\n",
       "var x = new MutationObserver(function (mutations, observer) {{\n",
       "        var display = window.getComputedStyle(gd).display;\n",
       "        if (!display || display === 'none') {{\n",
       "            console.log([gd, 'removed!']);\n",
       "            Plotly.purge(gd);\n",
       "            observer.disconnect();\n",
       "        }}\n",
       "}});\n",
       "\n",
       "// Listen for the removal of the full notebook cells\n",
       "var notebookContainer = gd.closest('#notebook-container');\n",
       "if (notebookContainer) {{\n",
       "    x.observe(notebookContainer, {childList: true});\n",
       "}}\n",
       "\n",
       "// Listen for the clearing of the current output cell\n",
       "var outputEl = gd.closest('.output');\n",
       "if (outputEl) {{\n",
       "    x.observe(outputEl, {childList: true});\n",
       "}}\n",
       "\n",
       "                        })\n",
       "                };\n",
       "                \n",
       "            </script>\n",
       "        </div>\n",
       "</body>\n",
       "</html>"
      ]
     },
     "metadata": {
      "tags": []
     },
     "output_type": "execute_result"
    }
   ],
   "source": [
    "# Visualize the accuracy changes over the 10 iterations\n",
    "\n",
    "import plotly.graph_objects as go\n",
    "import numpy as np\n",
    "\n",
    "labels = ['Iter1','Iter2','Iter3','Iter4','Iter5','Iter6','Iter7','Iter8','Iter9','Iter10']\n",
    "x = np.arange(10)\n",
    "\n",
    "fig = go.Figure(data=go.Scatter(x=labels, y=accuracy))\n",
    "fig.show()"
   ]
  },
  {
   "cell_type": "code",
   "execution_count": 81,
   "metadata": {
    "id": "gI9HMAdqvXet",
    "colab_type": "code",
    "colab": {
     "base_uri": "https://localhost:8080/",
     "height": 542.0
    },
    "outputId": "449b933d-267a-4d21-deb8-8e0a66721440",
    "executionInfo": {
     "status": "ok",
     "timestamp": 1.591700485609E12,
     "user_tz": -180.0,
     "elapsed": 845.0,
     "user": {
      "displayName": "Ioana Chelaru",
      "photoUrl": "",
      "userId": "17201995814344921386"
     }
    }
   },
   "outputs": [
    {
     "data": {
      "text/html": [
       "<html>\n",
       "<head><meta charset=\"utf-8\" /></head>\n",
       "<body>\n",
       "    <div>\n",
       "            <script src=\"https://cdnjs.cloudflare.com/ajax/libs/mathjax/2.7.5/MathJax.js?config=TeX-AMS-MML_SVG\"></script><script type=\"text/javascript\">if (window.MathJax) {MathJax.Hub.Config({SVG: {font: \"STIX-Web\"}});}</script>\n",
       "                <script type=\"text/javascript\">window.PlotlyConfig = {MathJaxConfig: 'local'};</script>\n",
       "        <script src=\"https://cdn.plot.ly/plotly-latest.min.js\"></script>    \n",
       "            <div id=\"640c1739-7451-4a3d-b25c-3ee8bf467de7\" class=\"plotly-graph-div\" style=\"height:525px; width:100%;\"></div>\n",
       "            <script type=\"text/javascript\">\n",
       "                \n",
       "                    window.PLOTLYENV=window.PLOTLYENV || {};\n",
       "                    \n",
       "                if (document.getElementById(\"640c1739-7451-4a3d-b25c-3ee8bf467de7\")) {\n",
       "                    Plotly.newPlot(\n",
       "                        '640c1739-7451-4a3d-b25c-3ee8bf467de7',\n",
       "                        [{\"type\": \"scatter\", \"x\": [\"Iter1\", \"Iter2\", \"Iter3\", \"Iter4\", \"Iter5\", \"Iter6\", \"Iter7\", \"Iter8\", \"Iter9\", \"Iter10\"], \"y\": [0.03749360144138336, 0.04725799337029457, 0.013758134096860886, 0.009679894894361496, 0.01884845644235611, 0.0075218044221401215, 0.02952371910214424, 0.02902301773428917, 0.0016121178632602096, 0.025766467675566673]}],\n",
       "                        {\"template\": {\"data\": {\"bar\": [{\"error_x\": {\"color\": \"#2a3f5f\"}, \"error_y\": {\"color\": \"#2a3f5f\"}, \"marker\": {\"line\": {\"color\": \"#E5ECF6\", \"width\": 0.5}}, \"type\": \"bar\"}], \"barpolar\": [{\"marker\": {\"line\": {\"color\": \"#E5ECF6\", \"width\": 0.5}}, \"type\": \"barpolar\"}], \"carpet\": [{\"aaxis\": {\"endlinecolor\": \"#2a3f5f\", \"gridcolor\": \"white\", \"linecolor\": \"white\", \"minorgridcolor\": \"white\", \"startlinecolor\": \"#2a3f5f\"}, \"baxis\": {\"endlinecolor\": \"#2a3f5f\", \"gridcolor\": \"white\", \"linecolor\": \"white\", \"minorgridcolor\": \"white\", \"startlinecolor\": \"#2a3f5f\"}, \"type\": \"carpet\"}], \"choropleth\": [{\"colorbar\": {\"outlinewidth\": 0, \"ticks\": \"\"}, \"type\": \"choropleth\"}], \"contour\": [{\"colorbar\": {\"outlinewidth\": 0, \"ticks\": \"\"}, \"colorscale\": [[0.0, \"#0d0887\"], [0.1111111111111111, \"#46039f\"], [0.2222222222222222, \"#7201a8\"], [0.3333333333333333, \"#9c179e\"], [0.4444444444444444, \"#bd3786\"], [0.5555555555555556, \"#d8576b\"], [0.6666666666666666, \"#ed7953\"], [0.7777777777777778, \"#fb9f3a\"], [0.8888888888888888, \"#fdca26\"], [1.0, \"#f0f921\"]], \"type\": \"contour\"}], \"contourcarpet\": [{\"colorbar\": {\"outlinewidth\": 0, \"ticks\": \"\"}, \"type\": \"contourcarpet\"}], \"heatmap\": [{\"colorbar\": {\"outlinewidth\": 0, \"ticks\": \"\"}, \"colorscale\": [[0.0, \"#0d0887\"], [0.1111111111111111, \"#46039f\"], [0.2222222222222222, \"#7201a8\"], [0.3333333333333333, \"#9c179e\"], [0.4444444444444444, \"#bd3786\"], [0.5555555555555556, \"#d8576b\"], [0.6666666666666666, \"#ed7953\"], [0.7777777777777778, \"#fb9f3a\"], [0.8888888888888888, \"#fdca26\"], [1.0, \"#f0f921\"]], \"type\": \"heatmap\"}], \"heatmapgl\": [{\"colorbar\": {\"outlinewidth\": 0, \"ticks\": \"\"}, \"colorscale\": [[0.0, \"#0d0887\"], [0.1111111111111111, \"#46039f\"], [0.2222222222222222, \"#7201a8\"], [0.3333333333333333, \"#9c179e\"], [0.4444444444444444, \"#bd3786\"], [0.5555555555555556, \"#d8576b\"], [0.6666666666666666, \"#ed7953\"], [0.7777777777777778, \"#fb9f3a\"], [0.8888888888888888, \"#fdca26\"], [1.0, \"#f0f921\"]], \"type\": \"heatmapgl\"}], \"histogram\": [{\"marker\": {\"colorbar\": {\"outlinewidth\": 0, \"ticks\": \"\"}}, \"type\": \"histogram\"}], \"histogram2d\": [{\"colorbar\": {\"outlinewidth\": 0, \"ticks\": \"\"}, \"colorscale\": [[0.0, \"#0d0887\"], [0.1111111111111111, \"#46039f\"], [0.2222222222222222, \"#7201a8\"], [0.3333333333333333, \"#9c179e\"], [0.4444444444444444, \"#bd3786\"], [0.5555555555555556, \"#d8576b\"], [0.6666666666666666, \"#ed7953\"], [0.7777777777777778, \"#fb9f3a\"], [0.8888888888888888, \"#fdca26\"], [1.0, \"#f0f921\"]], \"type\": \"histogram2d\"}], \"histogram2dcontour\": [{\"colorbar\": {\"outlinewidth\": 0, \"ticks\": \"\"}, \"colorscale\": [[0.0, \"#0d0887\"], [0.1111111111111111, \"#46039f\"], [0.2222222222222222, \"#7201a8\"], [0.3333333333333333, \"#9c179e\"], [0.4444444444444444, \"#bd3786\"], [0.5555555555555556, \"#d8576b\"], [0.6666666666666666, \"#ed7953\"], [0.7777777777777778, \"#fb9f3a\"], [0.8888888888888888, \"#fdca26\"], [1.0, \"#f0f921\"]], \"type\": \"histogram2dcontour\"}], \"mesh3d\": [{\"colorbar\": {\"outlinewidth\": 0, \"ticks\": \"\"}, \"type\": \"mesh3d\"}], \"parcoords\": [{\"line\": {\"colorbar\": {\"outlinewidth\": 0, \"ticks\": \"\"}}, \"type\": \"parcoords\"}], \"pie\": [{\"automargin\": true, \"type\": \"pie\"}], \"scatter\": [{\"marker\": {\"colorbar\": {\"outlinewidth\": 0, \"ticks\": \"\"}}, \"type\": \"scatter\"}], \"scatter3d\": [{\"line\": {\"colorbar\": {\"outlinewidth\": 0, \"ticks\": \"\"}}, \"marker\": {\"colorbar\": {\"outlinewidth\": 0, \"ticks\": \"\"}}, \"type\": \"scatter3d\"}], \"scattercarpet\": [{\"marker\": {\"colorbar\": {\"outlinewidth\": 0, \"ticks\": \"\"}}, \"type\": \"scattercarpet\"}], \"scattergeo\": [{\"marker\": {\"colorbar\": {\"outlinewidth\": 0, \"ticks\": \"\"}}, \"type\": \"scattergeo\"}], \"scattergl\": [{\"marker\": {\"colorbar\": {\"outlinewidth\": 0, \"ticks\": \"\"}}, \"type\": \"scattergl\"}], \"scattermapbox\": [{\"marker\": {\"colorbar\": {\"outlinewidth\": 0, \"ticks\": \"\"}}, \"type\": \"scattermapbox\"}], \"scatterpolar\": [{\"marker\": {\"colorbar\": {\"outlinewidth\": 0, \"ticks\": \"\"}}, \"type\": \"scatterpolar\"}], \"scatterpolargl\": [{\"marker\": {\"colorbar\": {\"outlinewidth\": 0, \"ticks\": \"\"}}, \"type\": \"scatterpolargl\"}], \"scatterternary\": [{\"marker\": {\"colorbar\": {\"outlinewidth\": 0, \"ticks\": \"\"}}, \"type\": \"scatterternary\"}], \"surface\": [{\"colorbar\": {\"outlinewidth\": 0, \"ticks\": \"\"}, \"colorscale\": [[0.0, \"#0d0887\"], [0.1111111111111111, \"#46039f\"], [0.2222222222222222, \"#7201a8\"], [0.3333333333333333, \"#9c179e\"], [0.4444444444444444, \"#bd3786\"], [0.5555555555555556, \"#d8576b\"], [0.6666666666666666, \"#ed7953\"], [0.7777777777777778, \"#fb9f3a\"], [0.8888888888888888, \"#fdca26\"], [1.0, \"#f0f921\"]], \"type\": \"surface\"}], \"table\": [{\"cells\": {\"fill\": {\"color\": \"#EBF0F8\"}, \"line\": {\"color\": \"white\"}}, \"header\": {\"fill\": {\"color\": \"#C8D4E3\"}, \"line\": {\"color\": \"white\"}}, \"type\": \"table\"}]}, \"layout\": {\"annotationdefaults\": {\"arrowcolor\": \"#2a3f5f\", \"arrowhead\": 0, \"arrowwidth\": 1}, \"coloraxis\": {\"colorbar\": {\"outlinewidth\": 0, \"ticks\": \"\"}}, \"colorscale\": {\"diverging\": [[0, \"#8e0152\"], [0.1, \"#c51b7d\"], [0.2, \"#de77ae\"], [0.3, \"#f1b6da\"], [0.4, \"#fde0ef\"], [0.5, \"#f7f7f7\"], [0.6, \"#e6f5d0\"], [0.7, \"#b8e186\"], [0.8, \"#7fbc41\"], [0.9, \"#4d9221\"], [1, \"#276419\"]], \"sequential\": [[0.0, \"#0d0887\"], [0.1111111111111111, \"#46039f\"], [0.2222222222222222, \"#7201a8\"], [0.3333333333333333, \"#9c179e\"], [0.4444444444444444, \"#bd3786\"], [0.5555555555555556, \"#d8576b\"], [0.6666666666666666, \"#ed7953\"], [0.7777777777777778, \"#fb9f3a\"], [0.8888888888888888, \"#fdca26\"], [1.0, \"#f0f921\"]], \"sequentialminus\": [[0.0, \"#0d0887\"], [0.1111111111111111, \"#46039f\"], [0.2222222222222222, \"#7201a8\"], [0.3333333333333333, \"#9c179e\"], [0.4444444444444444, \"#bd3786\"], [0.5555555555555556, \"#d8576b\"], [0.6666666666666666, \"#ed7953\"], [0.7777777777777778, \"#fb9f3a\"], [0.8888888888888888, \"#fdca26\"], [1.0, \"#f0f921\"]]}, \"colorway\": [\"#636efa\", \"#EF553B\", \"#00cc96\", \"#ab63fa\", \"#FFA15A\", \"#19d3f3\", \"#FF6692\", \"#B6E880\", \"#FF97FF\", \"#FECB52\"], \"font\": {\"color\": \"#2a3f5f\"}, \"geo\": {\"bgcolor\": \"white\", \"lakecolor\": \"white\", \"landcolor\": \"#E5ECF6\", \"showlakes\": true, \"showland\": true, \"subunitcolor\": \"white\"}, \"hoverlabel\": {\"align\": \"left\"}, \"hovermode\": \"closest\", \"mapbox\": {\"style\": \"light\"}, \"paper_bgcolor\": \"white\", \"plot_bgcolor\": \"#E5ECF6\", \"polar\": {\"angularaxis\": {\"gridcolor\": \"white\", \"linecolor\": \"white\", \"ticks\": \"\"}, \"bgcolor\": \"#E5ECF6\", \"radialaxis\": {\"gridcolor\": \"white\", \"linecolor\": \"white\", \"ticks\": \"\"}}, \"scene\": {\"xaxis\": {\"backgroundcolor\": \"#E5ECF6\", \"gridcolor\": \"white\", \"gridwidth\": 2, \"linecolor\": \"white\", \"showbackground\": true, \"ticks\": \"\", \"zerolinecolor\": \"white\"}, \"yaxis\": {\"backgroundcolor\": \"#E5ECF6\", \"gridcolor\": \"white\", \"gridwidth\": 2, \"linecolor\": \"white\", \"showbackground\": true, \"ticks\": \"\", \"zerolinecolor\": \"white\"}, \"zaxis\": {\"backgroundcolor\": \"#E5ECF6\", \"gridcolor\": \"white\", \"gridwidth\": 2, \"linecolor\": \"white\", \"showbackground\": true, \"ticks\": \"\", \"zerolinecolor\": \"white\"}}, \"shapedefaults\": {\"line\": {\"color\": \"#2a3f5f\"}}, \"ternary\": {\"aaxis\": {\"gridcolor\": \"white\", \"linecolor\": \"white\", \"ticks\": \"\"}, \"baxis\": {\"gridcolor\": \"white\", \"linecolor\": \"white\", \"ticks\": \"\"}, \"bgcolor\": \"#E5ECF6\", \"caxis\": {\"gridcolor\": \"white\", \"linecolor\": \"white\", \"ticks\": \"\"}}, \"title\": {\"x\": 0.05}, \"xaxis\": {\"automargin\": true, \"gridcolor\": \"white\", \"linecolor\": \"white\", \"ticks\": \"\", \"title\": {\"standoff\": 15}, \"zerolinecolor\": \"white\", \"zerolinewidth\": 2}, \"yaxis\": {\"automargin\": true, \"gridcolor\": \"white\", \"linecolor\": \"white\", \"ticks\": \"\", \"title\": {\"standoff\": 15}, \"zerolinecolor\": \"white\", \"zerolinewidth\": 2}}}},\n",
       "                        {\"responsive\": true}\n",
       "                    ).then(function(){\n",
       "                            \n",
       "var gd = document.getElementById('640c1739-7451-4a3d-b25c-3ee8bf467de7');\n",
       "var x = new MutationObserver(function (mutations, observer) {{\n",
       "        var display = window.getComputedStyle(gd).display;\n",
       "        if (!display || display === 'none') {{\n",
       "            console.log([gd, 'removed!']);\n",
       "            Plotly.purge(gd);\n",
       "            observer.disconnect();\n",
       "        }}\n",
       "}});\n",
       "\n",
       "// Listen for the removal of the full notebook cells\n",
       "var notebookContainer = gd.closest('#notebook-container');\n",
       "if (notebookContainer) {{\n",
       "    x.observe(notebookContainer, {childList: true});\n",
       "}}\n",
       "\n",
       "// Listen for the clearing of the current output cell\n",
       "var outputEl = gd.closest('.output');\n",
       "if (outputEl) {{\n",
       "    x.observe(outputEl, {childList: true});\n",
       "}}\n",
       "\n",
       "                        })\n",
       "                };\n",
       "                \n",
       "            </script>\n",
       "        </div>\n",
       "</body>\n",
       "</html>"
      ]
     },
     "metadata": {
      "tags": []
     },
     "output_type": "execute_result"
    }
   ],
   "source": [
    "# Visualize the loss changes over the 10 iterations\n",
    "\n",
    "import plotly.graph_objects as go\n",
    "import numpy as np\n",
    "\n",
    "labels = ['Iter1','Iter2','Iter3','Iter4','Iter5','Iter6','Iter7','Iter8','Iter9','Iter10']\n",
    "x = np.arange(10)\n",
    "\n",
    "fig = go.Figure(data=go.Scatter(x=labels, y=loss))\n",
    "fig.show()"
   ]
  }
 ],
 "metadata": {
  "colab": {
   "name": "Open-Closed eye classifier_v2.ipynb",
   "provenance": [],
   "collapsed_sections": [],
   "mount_file_id": "1vp2RQL5fR_8mFBL11UTFQlZAJhU35x12",
   "authorship_tag": "ABX9TyPkquM6upvpg8KZ0hFrhngT"
  },
  "kernelspec": {
   "name": "python3",
   "display_name": "Python 3"
  }
 },
 "nbformat": 4,
 "nbformat_minor": 0
}
